{
 "cells": [
  {
   "cell_type": "code",
   "execution_count": 1,
   "metadata": {},
   "outputs": [],
   "source": [
    "import sys\n",
    "dirname = '/Users/m.daffarobani/Documents/personal_research/smt'\n",
    "if dirname not in sys.path:\n",
    "    sys.path.append(dirname)\n",
    "\n",
    "from scipy import linalg\n",
    "from smt.utils.misc import compute_rms_error\n",
    "\n",
    "from smt.problems import Sphere, NdimRobotArm, Rosenbrock\n",
    "from smt.sampling_methods import LHS\n",
    "from smt.surrogate_models import LS, QP, KPLS, KRG, KPLSK, GEKPLS, MGP\n",
    "\n",
    "#to ignore warning messages\n",
    "import warnings\n",
    "warnings.filterwarnings(\"ignore\")\n",
    "\n",
    "import matplotlib.pyplot as plt\n",
    "import scipy.interpolate\n",
    "\n",
    "from mpl_toolkits.mplot3d import Axes3D\n",
    "import matplotlib.pyplot as plt\n",
    "from matplotlib import cm\n",
    "plot_status = True\n",
    "\n",
    "import numpy as np"
   ]
  },
  {
   "cell_type": "code",
   "execution_count": 2,
   "metadata": {},
   "outputs": [],
   "source": [
    "ndim = 2\n",
    "ndoe = 20 #int(10*ndim)\n",
    "fun = Rosenbrock(ndim=ndim)\n",
    "sampling = LHS(xlimits=fun.xlimits, criterion='ese', random_state=1)\n",
    "xt = sampling(ndoe)"
   ]
  },
  {
   "cell_type": "code",
   "execution_count": 3,
   "metadata": {},
   "outputs": [],
   "source": [
    "from smt.explainability_tools._partial_dependence import partial_dependence"
   ]
  },
  {
   "cell_type": "code",
   "execution_count": 4,
   "metadata": {},
   "outputs": [],
   "source": [
    "features = [0]\n",
    "model = None\n",
    "pd_results = partial_dependence(model, xt, features)"
   ]
  },
  {
   "cell_type": "code",
   "execution_count": 5,
   "metadata": {},
   "outputs": [
    {
     "data": {
      "text/plain": [
       "[{'grid_values': [array([-1.86878202, -1.83196149, -1.79514095, -1.75832042, -1.72149988,\n",
       "          -1.68467934, -1.64785881, -1.61103827, -1.57421773, -1.5373972 ,\n",
       "          -1.50057666, -1.46375612, -1.42693559, -1.39011505, -1.35329451,\n",
       "          -1.31647398, -1.27965344, -1.2428329 , -1.20601237, -1.16919183,\n",
       "          -1.13237129, -1.09555076, -1.05873022, -1.02190968, -0.98508915,\n",
       "          -0.94826861, -0.91144807, -0.87462754, -0.837807  , -0.80098647,\n",
       "          -0.76416593, -0.72734539, -0.69052486, -0.65370432, -0.61688378,\n",
       "          -0.58006325, -0.54324271, -0.50642217, -0.46960164, -0.4327811 ,\n",
       "          -0.39596056, -0.35914003, -0.32231949, -0.28549895, -0.24867842,\n",
       "          -0.21185788, -0.17503734, -0.13821681, -0.10139627, -0.06457573,\n",
       "          -0.0277552 ,  0.00906534,  0.04588588,  0.08270641,  0.11952695,\n",
       "           0.15634749,  0.19316802,  0.22998856,  0.26680909,  0.30362963,\n",
       "           0.34045017,  0.3772707 ,  0.41409124,  0.45091178,  0.48773231,\n",
       "           0.52455285,  0.56137339,  0.59819392,  0.63501446,  0.671835  ,\n",
       "           0.70865553,  0.74547607,  0.78229661,  0.81911714,  0.85593768,\n",
       "           0.89275822,  0.92957875,  0.96639929,  1.00321983,  1.04004036,\n",
       "           1.0768609 ,  1.11368144,  1.15050197,  1.18732251,  1.22414304,\n",
       "           1.26096358,  1.29778412,  1.33460465,  1.37142519,  1.40824573,\n",
       "           1.44506626,  1.4818868 ,  1.51870734,  1.55552787,  1.59234841,\n",
       "           1.62916895,  1.66598948,  1.70281002,  1.73963056,  1.77645109])]}]"
      ]
     },
     "execution_count": 5,
     "metadata": {},
     "output_type": "execute_result"
    }
   ],
   "source": [
    "pd_results"
   ]
  },
  {
   "cell_type": "code",
   "execution_count": 6,
   "metadata": {},
   "outputs": [],
   "source": [
    "features = [0, 1, [0, 1]]\n",
    "model = None\n",
    "pd_results = partial_dependence(model, xt, features)"
   ]
  },
  {
   "cell_type": "code",
   "execution_count": 7,
   "metadata": {},
   "outputs": [
    {
     "data": {
      "text/plain": [
       "{'grid_values': [array([-1.86878202, -1.83196149, -1.79514095, -1.75832042, -1.72149988,\n",
       "         -1.68467934, -1.64785881, -1.61103827, -1.57421773, -1.5373972 ,\n",
       "         -1.50057666, -1.46375612, -1.42693559, -1.39011505, -1.35329451,\n",
       "         -1.31647398, -1.27965344, -1.2428329 , -1.20601237, -1.16919183,\n",
       "         -1.13237129, -1.09555076, -1.05873022, -1.02190968, -0.98508915,\n",
       "         -0.94826861, -0.91144807, -0.87462754, -0.837807  , -0.80098647,\n",
       "         -0.76416593, -0.72734539, -0.69052486, -0.65370432, -0.61688378,\n",
       "         -0.58006325, -0.54324271, -0.50642217, -0.46960164, -0.4327811 ,\n",
       "         -0.39596056, -0.35914003, -0.32231949, -0.28549895, -0.24867842,\n",
       "         -0.21185788, -0.17503734, -0.13821681, -0.10139627, -0.06457573,\n",
       "         -0.0277552 ,  0.00906534,  0.04588588,  0.08270641,  0.11952695,\n",
       "          0.15634749,  0.19316802,  0.22998856,  0.26680909,  0.30362963,\n",
       "          0.34045017,  0.3772707 ,  0.41409124,  0.45091178,  0.48773231,\n",
       "          0.52455285,  0.56137339,  0.59819392,  0.63501446,  0.671835  ,\n",
       "          0.70865553,  0.74547607,  0.78229661,  0.81911714,  0.85593768,\n",
       "          0.89275822,  0.92957875,  0.96639929,  1.00321983,  1.04004036,\n",
       "          1.0768609 ,  1.11368144,  1.15050197,  1.18732251,  1.22414304,\n",
       "          1.26096358,  1.29778412,  1.33460465,  1.37142519,  1.40824573,\n",
       "          1.44506626,  1.4818868 ,  1.51870734,  1.55552787,  1.59234841,\n",
       "          1.62916895,  1.66598948,  1.70281002,  1.73963056,  1.77645109])]}"
      ]
     },
     "execution_count": 7,
     "metadata": {},
     "output_type": "execute_result"
    }
   ],
   "source": [
    "pd_results[0]"
   ]
  },
  {
   "cell_type": "code",
   "execution_count": 8,
   "metadata": {},
   "outputs": [
    {
     "data": {
      "text/plain": [
       "{'grid_values': [array([-1.80821044, -1.77100673, -1.73380303, -1.69659932, -1.65939562,\n",
       "         -1.62219191, -1.58498821, -1.54778451, -1.5105808 , -1.4733771 ,\n",
       "         -1.43617339, -1.39896969, -1.36176598, -1.32456228, -1.28735857,\n",
       "         -1.25015487, -1.21295116, -1.17574746, -1.13854375, -1.10134005,\n",
       "         -1.06413634, -1.02693264, -0.98972893, -0.95252523, -0.91532152,\n",
       "         -0.87811782, -0.84091411, -0.80371041, -0.76650671, -0.729303  ,\n",
       "         -0.6920993 , -0.65489559, -0.61769189, -0.58048818, -0.54328448,\n",
       "         -0.50608077, -0.46887707, -0.43167336, -0.39446966, -0.35726595,\n",
       "         -0.32006225, -0.28285854, -0.24565484, -0.20845113, -0.17124743,\n",
       "         -0.13404372, -0.09684002, -0.05963631, -0.02243261,  0.0147711 ,\n",
       "          0.0519748 ,  0.0891785 ,  0.12638221,  0.16358591,  0.20078962,\n",
       "          0.23799332,  0.27519703,  0.31240073,  0.34960444,  0.38680814,\n",
       "          0.42401185,  0.46121555,  0.49841926,  0.53562296,  0.57282667,\n",
       "          0.61003037,  0.64723408,  0.68443778,  0.72164149,  0.75884519,\n",
       "          0.7960489 ,  0.8332526 ,  0.87045631,  0.90766001,  0.94486371,\n",
       "          0.98206742,  1.01927112,  1.05647483,  1.09367853,  1.13088224,\n",
       "          1.16808594,  1.20528965,  1.24249335,  1.27969706,  1.31690076,\n",
       "          1.35410447,  1.39130817,  1.42851188,  1.46571558,  1.50291929,\n",
       "          1.54012299,  1.5773267 ,  1.6145304 ,  1.65173411,  1.68893781,\n",
       "          1.72614152,  1.76334522,  1.80054892,  1.83775263,  1.87495633])]}"
      ]
     },
     "execution_count": 8,
     "metadata": {},
     "output_type": "execute_result"
    }
   ],
   "source": [
    "pd_results[1]"
   ]
  },
  {
   "cell_type": "code",
   "execution_count": 9,
   "metadata": {},
   "outputs": [
    {
     "data": {
      "text/plain": [
       "array([-1.86878202, -1.83196149, -1.79514095, -1.75832042, -1.72149988,\n",
       "       -1.68467934, -1.64785881, -1.61103827, -1.57421773, -1.5373972 ,\n",
       "       -1.50057666, -1.46375612, -1.42693559, -1.39011505, -1.35329451,\n",
       "       -1.31647398, -1.27965344, -1.2428329 , -1.20601237, -1.16919183,\n",
       "       -1.13237129, -1.09555076, -1.05873022, -1.02190968, -0.98508915,\n",
       "       -0.94826861, -0.91144807, -0.87462754, -0.837807  , -0.80098647,\n",
       "       -0.76416593, -0.72734539, -0.69052486, -0.65370432, -0.61688378,\n",
       "       -0.58006325, -0.54324271, -0.50642217, -0.46960164, -0.4327811 ,\n",
       "       -0.39596056, -0.35914003, -0.32231949, -0.28549895, -0.24867842,\n",
       "       -0.21185788, -0.17503734, -0.13821681, -0.10139627, -0.06457573,\n",
       "       -0.0277552 ,  0.00906534,  0.04588588,  0.08270641,  0.11952695,\n",
       "        0.15634749,  0.19316802,  0.22998856,  0.26680909,  0.30362963,\n",
       "        0.34045017,  0.3772707 ,  0.41409124,  0.45091178,  0.48773231,\n",
       "        0.52455285,  0.56137339,  0.59819392,  0.63501446,  0.671835  ,\n",
       "        0.70865553,  0.74547607,  0.78229661,  0.81911714,  0.85593768,\n",
       "        0.89275822,  0.92957875,  0.96639929,  1.00321983,  1.04004036,\n",
       "        1.0768609 ,  1.11368144,  1.15050197,  1.18732251,  1.22414304,\n",
       "        1.26096358,  1.29778412,  1.33460465,  1.37142519,  1.40824573,\n",
       "        1.44506626,  1.4818868 ,  1.51870734,  1.55552787,  1.59234841,\n",
       "        1.62916895,  1.66598948,  1.70281002,  1.73963056,  1.77645109])"
      ]
     },
     "execution_count": 9,
     "metadata": {},
     "output_type": "execute_result"
    }
   ],
   "source": [
    "pd_results[2]['grid_values'][0]"
   ]
  },
  {
   "cell_type": "code",
   "execution_count": 10,
   "metadata": {},
   "outputs": [
    {
     "name": "stdout",
     "output_type": "stream",
     "text": [
      "sdsd\n"
     ]
    }
   ],
   "source": [
    "test = [0, 1]\n",
    "if test[1]:\n",
    "    print('sdsd')"
   ]
  },
  {
   "cell_type": "code",
   "execution_count": 11,
   "metadata": {},
   "outputs": [],
   "source": [
    "import pandas as pd"
   ]
  },
  {
   "cell_type": "code",
   "execution_count": null,
   "metadata": {},
   "outputs": [],
   "source": []
  },
  {
   "cell_type": "code",
   "execution_count": 12,
   "metadata": {},
   "outputs": [],
   "source": [
    "x_df = pd.DataFrame({'x1': [0, 10, 8], 'x2': [1, 2, 3], 'x3': ['a', 'a', 'b']})\n",
    "X = np.array(x_df)\n",
    "model = None\n",
    "features = [0, 1, 2, (0, 2)]\n",
    "categorical_features = [0, 0, 1]\n",
    "pd_results = partial_dependence(model, X, features, categorical_features=categorical_features)"
   ]
  },
  {
   "cell_type": "code",
   "execution_count": 13,
   "metadata": {},
   "outputs": [
    {
     "data": {
      "text/plain": [
       "{'grid_values': [array([ 0.        ,  0.1010101 ,  0.2020202 ,  0.3030303 ,  0.4040404 ,\n",
       "          0.50505051,  0.60606061,  0.70707071,  0.80808081,  0.90909091,\n",
       "          1.01010101,  1.11111111,  1.21212121,  1.31313131,  1.41414141,\n",
       "          1.51515152,  1.61616162,  1.71717172,  1.81818182,  1.91919192,\n",
       "          2.02020202,  2.12121212,  2.22222222,  2.32323232,  2.42424242,\n",
       "          2.52525253,  2.62626263,  2.72727273,  2.82828283,  2.92929293,\n",
       "          3.03030303,  3.13131313,  3.23232323,  3.33333333,  3.43434343,\n",
       "          3.53535354,  3.63636364,  3.73737374,  3.83838384,  3.93939394,\n",
       "          4.04040404,  4.14141414,  4.24242424,  4.34343434,  4.44444444,\n",
       "          4.54545455,  4.64646465,  4.74747475,  4.84848485,  4.94949495,\n",
       "          5.05050505,  5.15151515,  5.25252525,  5.35353535,  5.45454545,\n",
       "          5.55555556,  5.65656566,  5.75757576,  5.85858586,  5.95959596,\n",
       "          6.06060606,  6.16161616,  6.26262626,  6.36363636,  6.46464646,\n",
       "          6.56565657,  6.66666667,  6.76767677,  6.86868687,  6.96969697,\n",
       "          7.07070707,  7.17171717,  7.27272727,  7.37373737,  7.47474747,\n",
       "          7.57575758,  7.67676768,  7.77777778,  7.87878788,  7.97979798,\n",
       "          8.08080808,  8.18181818,  8.28282828,  8.38383838,  8.48484848,\n",
       "          8.58585859,  8.68686869,  8.78787879,  8.88888889,  8.98989899,\n",
       "          9.09090909,  9.19191919,  9.29292929,  9.39393939,  9.49494949,\n",
       "          9.5959596 ,  9.6969697 ,  9.7979798 ,  9.8989899 , 10.        ]),\n",
       "  array(['a', 'b'], dtype=object)]}"
      ]
     },
     "execution_count": 13,
     "metadata": {},
     "output_type": "execute_result"
    }
   ],
   "source": [
    "pd_results[3]"
   ]
  },
  {
   "cell_type": "code",
   "execution_count": 14,
   "metadata": {},
   "outputs": [
    {
     "data": {
      "text/plain": [
       "array([0, 10, 8], dtype=object)"
      ]
     },
     "execution_count": 14,
     "metadata": {},
     "output_type": "execute_result"
    }
   ],
   "source": [
    "X[:, 0]"
   ]
  },
  {
   "cell_type": "markdown",
   "metadata": {},
   "source": [
    "# Predictions"
   ]
  },
  {
   "cell_type": "code",
   "execution_count": 89,
   "metadata": {},
   "outputs": [],
   "source": [
    "from sklearn.utils.extmath import cartesian\n",
    "def cartesian(arrays, out=None):\n",
    "    \"\"\"Generate a cartesian product of input arrays.\n",
    "\n",
    "    Parameters\n",
    "    ----------\n",
    "    arrays : list of array-like\n",
    "        1-D arrays to form the cartesian product of.\n",
    "    out : ndarray of shape (M, len(arrays)), default=None\n",
    "        Array to place the cartesian product in.\n",
    "\n",
    "    Returns\n",
    "    -------\n",
    "    out : ndarray of shape (M, len(arrays))\n",
    "        Array containing the cartesian products formed of input arrays.\n",
    "        If not provided, the `dtype` of the output array is set to the most\n",
    "        permissive `dtype` of the input arrays, according to NumPy type\n",
    "        promotion.\n",
    "\n",
    "        .. versionadded:: 1.2\n",
    "           Add support for arrays of different types.\n",
    "\n",
    "    Notes\n",
    "    -----\n",
    "    This function may not be used on more than 32 arrays\n",
    "    because the underlying numpy functions do not support it.\n",
    "\n",
    "    Examples\n",
    "    --------\n",
    "    >>> from sklearn.utils.extmath import cartesian\n",
    "    >>> cartesian(([1, 2, 3], [4, 5], [6, 7]))\n",
    "    array([[1, 4, 6],\n",
    "           [1, 4, 7],\n",
    "           [1, 5, 6],\n",
    "           [1, 5, 7],\n",
    "           [2, 4, 6],\n",
    "           [2, 4, 7],\n",
    "           [2, 5, 6],\n",
    "           [2, 5, 7],\n",
    "           [3, 4, 6],\n",
    "           [3, 4, 7],\n",
    "           [3, 5, 6],\n",
    "           [3, 5, 7]])\n",
    "    \"\"\"\n",
    "    arrays = [np.asarray(x) for x in arrays]\n",
    "    shape = (len(x) for x in arrays)\n",
    "\n",
    "    ix = np.indices(shape)\n",
    "    ix = ix.reshape(len(arrays), -1).T\n",
    "\n",
    "    if out is None:\n",
    "        dtype = np.result_type(*arrays)  # find the most permissive dtype\n",
    "        if dtype.str[:2] != '<U':\n",
    "            out = np.empty_like(ix, dtype=dtype)\n",
    "        else:\n",
    "            out = np.empty_like(ix, dtype='object')\n",
    "\n",
    "    for n, arr in enumerate(arrays):\n",
    "        out[:, n] = arrays[n][ix[:, n]]\n",
    "\n",
    "    return out"
   ]
  },
  {
   "cell_type": "code",
   "execution_count": 108,
   "metadata": {},
   "outputs": [],
   "source": [
    "def _partial_dependence_brute(\n",
    "    model, grid_values, features, X, sample_weight=None\n",
    "):\n",
    "    grid = cartesian(grid_values)\n",
    "    \n",
    "    predictions = []\n",
    "    averaged_predictions = []\n",
    "\n",
    "    for new_values in grid:\n",
    "        X_eval = X.copy()\n",
    "        for i, feature in enumerate(features):\n",
    "            X_eval[:, i] = new_values[i]\n",
    "        pred = model.predict_values(X_eval) \n",
    "    \n",
    "    pass"
   ]
  },
  {
   "cell_type": "code",
   "execution_count": 16,
   "metadata": {},
   "outputs": [],
   "source": [
    "########### Initialization of the problem, construction of the training and validation points\n",
    "\n",
    "ndim = 2\n",
    "ndoe = 20 #int(10*ndim)\n",
    "# Define the function\n",
    "fun = Rosenbrock(ndim=ndim)\n",
    "\n",
    "# Construction of the DOE\n",
    "# in order to have the always same LHS points, random_state=1\n",
    "sampling = LHS(xlimits=fun.xlimits, criterion='ese', random_state=1)\n",
    "xt = sampling(ndoe)\n",
    "# Compute the outputs\n",
    "yt = fun(xt)\n",
    "\n",
    "# Construction of the validation points\n",
    "ntest = 200 #500\n",
    "sampling = LHS(xlimits=fun.xlimits, criterion='ese', random_state=1)\n",
    "xtest = sampling(ntest)\n",
    "ytest = fun(xtest)"
   ]
  },
  {
   "cell_type": "code",
   "execution_count": 17,
   "metadata": {},
   "outputs": [
    {
     "data": {
      "text/plain": [
       "(20,)"
      ]
     },
     "execution_count": 17,
     "metadata": {},
     "output_type": "execute_result"
    }
   ],
   "source": [
    "yt[:, 0].shape"
   ]
  },
  {
   "cell_type": "code",
   "execution_count": 18,
   "metadata": {},
   "outputs": [
    {
     "name": "stdout",
     "output_type": "stream",
     "text": [
      "___________________________________________________________________________\n",
      "   \n",
      "                                  Kriging\n",
      "___________________________________________________________________________\n",
      "   \n",
      " Problem size\n",
      "   \n",
      "      # training points.        : 20\n",
      "   \n",
      "___________________________________________________________________________\n",
      "   \n",
      " Training\n",
      "   \n",
      "   Training ...\n",
      "   Training - done. Time (sec):  0.1767352\n"
     ]
    }
   ],
   "source": [
    "X = xt.copy()\n",
    "y = yt[:, 0]\n",
    "\n",
    "t = KRG(theta0=[1e-2]*ndim,print_prediction = False)\n",
    "t.set_training_values(X, y)\n",
    "\n",
    "t.train()"
   ]
  },
  {
   "cell_type": "code",
   "execution_count": 101,
   "metadata": {},
   "outputs": [],
   "source": [
    "features = [0, 1, [0, 1]]\n",
    "model = None\n",
    "pd_results = partial_dependence(model, X, features, grid_resolution=20)"
   ]
  },
  {
   "cell_type": "code",
   "execution_count": 98,
   "metadata": {},
   "outputs": [
    {
     "data": {
      "text/plain": [
       "[{'grid_values': [array([-1.86878202, -1.83196149, -1.79514095, -1.75832042, -1.72149988,\n",
       "          -1.68467934, -1.64785881, -1.61103827, -1.57421773, -1.5373972 ,\n",
       "          -1.50057666, -1.46375612, -1.42693559, -1.39011505, -1.35329451,\n",
       "          -1.31647398, -1.27965344, -1.2428329 , -1.20601237, -1.16919183,\n",
       "          -1.13237129, -1.09555076, -1.05873022, -1.02190968, -0.98508915,\n",
       "          -0.94826861, -0.91144807, -0.87462754, -0.837807  , -0.80098647,\n",
       "          -0.76416593, -0.72734539, -0.69052486, -0.65370432, -0.61688378,\n",
       "          -0.58006325, -0.54324271, -0.50642217, -0.46960164, -0.4327811 ,\n",
       "          -0.39596056, -0.35914003, -0.32231949, -0.28549895, -0.24867842,\n",
       "          -0.21185788, -0.17503734, -0.13821681, -0.10139627, -0.06457573,\n",
       "          -0.0277552 ,  0.00906534,  0.04588588,  0.08270641,  0.11952695,\n",
       "           0.15634749,  0.19316802,  0.22998856,  0.26680909,  0.30362963,\n",
       "           0.34045017,  0.3772707 ,  0.41409124,  0.45091178,  0.48773231,\n",
       "           0.52455285,  0.56137339,  0.59819392,  0.63501446,  0.671835  ,\n",
       "           0.70865553,  0.74547607,  0.78229661,  0.81911714,  0.85593768,\n",
       "           0.89275822,  0.92957875,  0.96639929,  1.00321983,  1.04004036,\n",
       "           1.0768609 ,  1.11368144,  1.15050197,  1.18732251,  1.22414304,\n",
       "           1.26096358,  1.29778412,  1.33460465,  1.37142519,  1.40824573,\n",
       "           1.44506626,  1.4818868 ,  1.51870734,  1.55552787,  1.59234841,\n",
       "           1.62916895,  1.66598948,  1.70281002,  1.73963056,  1.77645109])]},\n",
       " {'grid_values': [array([-1.80821044, -1.77100673, -1.73380303, -1.69659932, -1.65939562,\n",
       "          -1.62219191, -1.58498821, -1.54778451, -1.5105808 , -1.4733771 ,\n",
       "          -1.43617339, -1.39896969, -1.36176598, -1.32456228, -1.28735857,\n",
       "          -1.25015487, -1.21295116, -1.17574746, -1.13854375, -1.10134005,\n",
       "          -1.06413634, -1.02693264, -0.98972893, -0.95252523, -0.91532152,\n",
       "          -0.87811782, -0.84091411, -0.80371041, -0.76650671, -0.729303  ,\n",
       "          -0.6920993 , -0.65489559, -0.61769189, -0.58048818, -0.54328448,\n",
       "          -0.50608077, -0.46887707, -0.43167336, -0.39446966, -0.35726595,\n",
       "          -0.32006225, -0.28285854, -0.24565484, -0.20845113, -0.17124743,\n",
       "          -0.13404372, -0.09684002, -0.05963631, -0.02243261,  0.0147711 ,\n",
       "           0.0519748 ,  0.0891785 ,  0.12638221,  0.16358591,  0.20078962,\n",
       "           0.23799332,  0.27519703,  0.31240073,  0.34960444,  0.38680814,\n",
       "           0.42401185,  0.46121555,  0.49841926,  0.53562296,  0.57282667,\n",
       "           0.61003037,  0.64723408,  0.68443778,  0.72164149,  0.75884519,\n",
       "           0.7960489 ,  0.8332526 ,  0.87045631,  0.90766001,  0.94486371,\n",
       "           0.98206742,  1.01927112,  1.05647483,  1.09367853,  1.13088224,\n",
       "           1.16808594,  1.20528965,  1.24249335,  1.27969706,  1.31690076,\n",
       "           1.35410447,  1.39130817,  1.42851188,  1.46571558,  1.50291929,\n",
       "           1.54012299,  1.5773267 ,  1.6145304 ,  1.65173411,  1.68893781,\n",
       "           1.72614152,  1.76334522,  1.80054892,  1.83775263,  1.87495633])]},\n",
       " {'grid_values': [array([-1.86878202, -1.83196149, -1.79514095, -1.75832042, -1.72149988,\n",
       "          -1.68467934, -1.64785881, -1.61103827, -1.57421773, -1.5373972 ,\n",
       "          -1.50057666, -1.46375612, -1.42693559, -1.39011505, -1.35329451,\n",
       "          -1.31647398, -1.27965344, -1.2428329 , -1.20601237, -1.16919183,\n",
       "          -1.13237129, -1.09555076, -1.05873022, -1.02190968, -0.98508915,\n",
       "          -0.94826861, -0.91144807, -0.87462754, -0.837807  , -0.80098647,\n",
       "          -0.76416593, -0.72734539, -0.69052486, -0.65370432, -0.61688378,\n",
       "          -0.58006325, -0.54324271, -0.50642217, -0.46960164, -0.4327811 ,\n",
       "          -0.39596056, -0.35914003, -0.32231949, -0.28549895, -0.24867842,\n",
       "          -0.21185788, -0.17503734, -0.13821681, -0.10139627, -0.06457573,\n",
       "          -0.0277552 ,  0.00906534,  0.04588588,  0.08270641,  0.11952695,\n",
       "           0.15634749,  0.19316802,  0.22998856,  0.26680909,  0.30362963,\n",
       "           0.34045017,  0.3772707 ,  0.41409124,  0.45091178,  0.48773231,\n",
       "           0.52455285,  0.56137339,  0.59819392,  0.63501446,  0.671835  ,\n",
       "           0.70865553,  0.74547607,  0.78229661,  0.81911714,  0.85593768,\n",
       "           0.89275822,  0.92957875,  0.96639929,  1.00321983,  1.04004036,\n",
       "           1.0768609 ,  1.11368144,  1.15050197,  1.18732251,  1.22414304,\n",
       "           1.26096358,  1.29778412,  1.33460465,  1.37142519,  1.40824573,\n",
       "           1.44506626,  1.4818868 ,  1.51870734,  1.55552787,  1.59234841,\n",
       "           1.62916895,  1.66598948,  1.70281002,  1.73963056,  1.77645109]),\n",
       "   array([-1.80821044, -1.77100673, -1.73380303, -1.69659932, -1.65939562,\n",
       "          -1.62219191, -1.58498821, -1.54778451, -1.5105808 , -1.4733771 ,\n",
       "          -1.43617339, -1.39896969, -1.36176598, -1.32456228, -1.28735857,\n",
       "          -1.25015487, -1.21295116, -1.17574746, -1.13854375, -1.10134005,\n",
       "          -1.06413634, -1.02693264, -0.98972893, -0.95252523, -0.91532152,\n",
       "          -0.87811782, -0.84091411, -0.80371041, -0.76650671, -0.729303  ,\n",
       "          -0.6920993 , -0.65489559, -0.61769189, -0.58048818, -0.54328448,\n",
       "          -0.50608077, -0.46887707, -0.43167336, -0.39446966, -0.35726595,\n",
       "          -0.32006225, -0.28285854, -0.24565484, -0.20845113, -0.17124743,\n",
       "          -0.13404372, -0.09684002, -0.05963631, -0.02243261,  0.0147711 ,\n",
       "           0.0519748 ,  0.0891785 ,  0.12638221,  0.16358591,  0.20078962,\n",
       "           0.23799332,  0.27519703,  0.31240073,  0.34960444,  0.38680814,\n",
       "           0.42401185,  0.46121555,  0.49841926,  0.53562296,  0.57282667,\n",
       "           0.61003037,  0.64723408,  0.68443778,  0.72164149,  0.75884519,\n",
       "           0.7960489 ,  0.8332526 ,  0.87045631,  0.90766001,  0.94486371,\n",
       "           0.98206742,  1.01927112,  1.05647483,  1.09367853,  1.13088224,\n",
       "           1.16808594,  1.20528965,  1.24249335,  1.27969706,  1.31690076,\n",
       "           1.35410447,  1.39130817,  1.42851188,  1.46571558,  1.50291929,\n",
       "           1.54012299,  1.5773267 ,  1.6145304 ,  1.65173411,  1.68893781,\n",
       "           1.72614152,  1.76334522,  1.80054892,  1.83775263,  1.87495633])]}]"
      ]
     },
     "execution_count": 98,
     "metadata": {},
     "output_type": "execute_result"
    }
   ],
   "source": [
    "pd_results"
   ]
  },
  {
   "cell_type": "code",
   "execution_count": 110,
   "metadata": {},
   "outputs": [],
   "source": [
    "pred = t.predict_values(X)"
   ]
  },
  {
   "cell_type": "code",
   "execution_count": 111,
   "metadata": {},
   "outputs": [
    {
     "data": {
      "text/plain": [
       "(20, 1)"
      ]
     },
     "execution_count": 111,
     "metadata": {},
     "output_type": "execute_result"
    }
   ],
   "source": [
    "pred.shape"
   ]
  },
  {
   "cell_type": "code",
   "execution_count": 25,
   "metadata": {},
   "outputs": [
    {
     "data": {
      "text/plain": [
       "<function __main__.cartesian(arrays, out=None)>"
      ]
     },
     "execution_count": 25,
     "metadata": {},
     "output_type": "execute_result"
    }
   ],
   "source": [
    "cartesian"
   ]
  },
  {
   "cell_type": "code",
   "execution_count": 106,
   "metadata": {},
   "outputs": [],
   "source": [
    "grid = cartesian(pd_results[2]['grid_values'])"
   ]
  },
  {
   "cell_type": "code",
   "execution_count": 116,
   "metadata": {},
   "outputs": [],
   "source": [
    "arrays = ([0, 1], [1, 2, 3], ['a', 'b'])\n",
    "arrays = [[0, 1], [1, 2, 3], [0.5, 0.8], ['a', 'b']]\n",
    "arrays = [['a', 'b'], ['c', 'sdsddsdd']]\n",
    "\n",
    "lengths = (len(array) for array in arrays)\n",
    "grid = cartesian(arrays)"
   ]
  },
  {
   "cell_type": "code",
   "execution_count": 123,
   "metadata": {},
   "outputs": [],
   "source": [
    "def addition_2d(a, b):\n",
    "    return a + b\n",
    "def addition_3d(a, b, c):\n",
    "    return a + b + c\n"
   ]
  },
  {
   "cell_type": "code",
   "execution_count": 217,
   "metadata": {},
   "outputs": [],
   "source": [
    "arrays = [[0, 1], [2, 3, 4]]\n",
    "arrays = [[0, 1, 2, 3]]\n",
    "lengths = [len(array) for array in arrays]\n",
    "grid = cartesian(arrays)\n",
    "\n",
    "nsamp = 3\n",
    "X = np.ones((nsamp, 3))\n",
    "X[:, 2] = np.array([0, 1, 2])\n",
    "sample_weight = [1, 1, 1]\n",
    "\n",
    "predictions = []\n",
    "averaged_predictions = []\n",
    "for new_values in grid:\n",
    "    X_eval = X.copy()\n",
    "    for i in range(grid.shape[1]):\n",
    "        X_eval[:, i] = new_values[i]\n",
    "    # print(X_eval)\n",
    "    pred = X_eval.sum(axis=1)\n",
    "    averaged_pred = np.average(pred, weights=None)\n",
    "\n",
    "    predictions.append(pred)\n",
    "    averaged_predictions.append(averaged_pred)\n",
    "predictions = np.array(predictions).T\n",
    "averaged_predictions = np.array(averaged_predictions).T\n",
    "\n",
    "predictions = predictions.reshape([nsamp]+lengths)\n",
    "averaged_predictions = averaged_predictions.reshape(lengths)"
   ]
  },
  {
   "cell_type": "code",
   "execution_count": 218,
   "metadata": {},
   "outputs": [
    {
     "data": {
      "image/png": "[encoded data removed]",
      "text/plain": [
       "<Figure size 640x480 with 1 Axes>"
      ]
     },
     "metadata": {},
     "output_type": "display_data"
    }
   ],
   "source": [
    "plt.scatter(arrays[0], averaged_predictions)\n",
    "plt.plot(arrays[0], averaged_predictions)\n",
    "for i in range(len(X)):\n",
    "    plt.plot(arrays[0], predictions[i])"
   ]
  },
  {
   "cell_type": "code",
   "execution_count": 210,
   "metadata": {},
   "outputs": [
    {
     "data": {
      "text/plain": [
       "array([[1., 1., 0.],\n",
       "       [1., 1., 1.],\n",
       "       [1., 1., 2.]])"
      ]
     },
     "execution_count": 210,
     "metadata": {},
     "output_type": "execute_result"
    }
   ],
   "source": [
    "X"
   ]
  },
  {
   "cell_type": "code",
   "execution_count": 211,
   "metadata": {},
   "outputs": [
    {
     "data": {
      "text/plain": [
       "array([1., 2., 3., 4.])"
      ]
     },
     "execution_count": 211,
     "metadata": {},
     "output_type": "execute_result"
    }
   ],
   "source": [
    "predictions[0]"
   ]
  },
  {
   "cell_type": "code",
   "execution_count": 204,
   "metadata": {},
   "outputs": [
    {
     "data": {
      "text/plain": [
       "array([2., 3.])"
      ]
     },
     "execution_count": 204,
     "metadata": {},
     "output_type": "execute_result"
    }
   ],
   "source": [
    "predictions[1]"
   ]
  },
  {
   "cell_type": "code",
   "execution_count": 205,
   "metadata": {},
   "outputs": [
    {
     "data": {
      "text/plain": [
       "array([3., 4.])"
      ]
     },
     "execution_count": 205,
     "metadata": {},
     "output_type": "execute_result"
    }
   ],
   "source": [
    "predictions[2]"
   ]
  },
  {
   "cell_type": "code",
   "execution_count": 207,
   "metadata": {},
   "outputs": [
    {
     "data": {
      "text/plain": [
       "array([2., 3.])"
      ]
     },
     "execution_count": 207,
     "metadata": {},
     "output_type": "execute_result"
    }
   ],
   "source": [
    "averaged_predictions"
   ]
  },
  {
   "cell_type": "code",
   "execution_count": 195,
   "metadata": {},
   "outputs": [
    {
     "data": {
      "text/plain": [
       "array([2., 3., 4.])"
      ]
     },
     "execution_count": 195,
     "metadata": {},
     "output_type": "execute_result"
    }
   ],
   "source": [
    "pred"
   ]
  },
  {
   "cell_type": "code",
   "execution_count": 191,
   "metadata": {},
   "outputs": [
    {
     "data": {
      "text/plain": [
       "array([[1., 2.],\n",
       "       [2., 3.],\n",
       "       [3., 4.]])"
      ]
     },
     "execution_count": 191,
     "metadata": {},
     "output_type": "execute_result"
    }
   ],
   "source": [
    "predictions"
   ]
  },
  {
   "cell_type": "code",
   "execution_count": 193,
   "metadata": {},
   "outputs": [
    {
     "data": {
      "text/plain": [
       "array([2., 3.])"
      ]
     },
     "execution_count": 193,
     "metadata": {},
     "output_type": "execute_result"
    }
   ],
   "source": [
    "averaged_predictions"
   ]
  },
  {
   "cell_type": "code",
   "execution_count": 194,
   "metadata": {},
   "outputs": [
    {
     "data": {
      "text/plain": [
       "array([[1., 1., 0.],\n",
       "       [1., 1., 1.],\n",
       "       [1., 1., 2.]])"
      ]
     },
     "execution_count": 194,
     "metadata": {},
     "output_type": "execute_result"
    }
   ],
   "source": [
    "X_eval"
   ]
  },
  {
   "cell_type": "code",
   "execution_count": 189,
   "metadata": {},
   "outputs": [
    {
     "data": {
      "text/plain": [
       "(2, 1)"
      ]
     },
     "execution_count": 189,
     "metadata": {},
     "output_type": "execute_result"
    }
   ],
   "source": [
    "grid.shape"
   ]
  },
  {
   "cell_type": "code",
   "execution_count": 187,
   "metadata": {},
   "outputs": [
    {
     "data": {
      "text/plain": [
       "array([[[2., 3., 4.],\n",
       "        [3., 4., 5.]],\n",
       "\n",
       "       [[3., 4., 5.],\n",
       "        [4., 5., 6.]],\n",
       "\n",
       "       [[4., 5., 6.],\n",
       "        [5., 6., 7.]]])"
      ]
     },
     "execution_count": 187,
     "metadata": {},
     "output_type": "execute_result"
    }
   ],
   "source": [
    "predictions"
   ]
  },
  {
   "cell_type": "code",
   "execution_count": 184,
   "metadata": {},
   "outputs": [
    {
     "ename": "ValueError",
     "evalue": "can only specify one unknown dimension",
     "output_type": "error",
     "traceback": [
      "\u001b[0;31m---------------------------------------------------------------------------\u001b[0m",
      "\u001b[0;31mValueError\u001b[0m                                Traceback (most recent call last)",
      "\u001b[0;32m/var/folders/7f/qxjj2l_54qz7619sryzlvxfm0000gp/T/ipykernel_1980/1311968835.py\u001b[0m in \u001b[0;36m<module>\u001b[0;34m\u001b[0m\n\u001b[0;32m----> 1\u001b[0;31m \u001b[0mpredictions\u001b[0m\u001b[0;34m.\u001b[0m\u001b[0mreshape\u001b[0m\u001b[0;34m(\u001b[0m\u001b[0mnsamp\u001b[0m\u001b[0;34m,\u001b[0m \u001b[0;34m-\u001b[0m\u001b[0;36m1\u001b[0m\u001b[0;34m,\u001b[0m \u001b[0;34m-\u001b[0m\u001b[0;36m1\u001b[0m\u001b[0;34m)\u001b[0m\u001b[0;34m\u001b[0m\u001b[0;34m\u001b[0m\u001b[0m\n\u001b[0m",
      "\u001b[0;31mValueError\u001b[0m: can only specify one unknown dimension"
     ]
    }
   ],
   "source": [
    "predictions.reshape(nsamp, -1, -1)"
   ]
  },
  {
   "cell_type": "code",
   "execution_count": 181,
   "metadata": {},
   "outputs": [
    {
     "data": {
      "text/plain": [
       "array([[[2., 3., 4.],\n",
       "        [3., 4., 5.]],\n",
       "\n",
       "       [[3., 4., 5.],\n",
       "        [4., 5., 6.]],\n",
       "\n",
       "       [[4., 5., 6.],\n",
       "        [5., 6., 7.]]])"
      ]
     },
     "execution_count": 181,
     "metadata": {},
     "output_type": "execute_result"
    }
   ],
   "source": [
    "predictions.reshape([nsamp]+lengths)"
   ]
  },
  {
   "cell_type": "code",
   "execution_count": 180,
   "metadata": {},
   "outputs": [
    {
     "data": {
      "text/plain": [
       "[2, 3]"
      ]
     },
     "execution_count": 180,
     "metadata": {},
     "output_type": "execute_result"
    }
   ],
   "source": [
    "lengths"
   ]
  },
  {
   "cell_type": "code",
   "execution_count": 154,
   "metadata": {},
   "outputs": [
    {
     "data": {
      "text/plain": [
       "array([[[2., 3., 4.],\n",
       "        [3., 4., 5.]],\n",
       "\n",
       "       [[3., 4., 5.],\n",
       "        [4., 5., 6.]],\n",
       "\n",
       "       [[4., 5., 6.],\n",
       "        [5., 6., 7.]]])"
      ]
     },
     "execution_count": 154,
     "metadata": {},
     "output_type": "execute_result"
    }
   ],
   "source": [
    "predictions.reshape(nsamp, 2, 3)"
   ]
  },
  {
   "cell_type": "code",
   "execution_count": 169,
   "metadata": {},
   "outputs": [],
   "source": [
    "XX, YY = np.meshgrid([0, 1], [2, 3, 4])\n",
    "Z = averaged_predictions.reshape(2, 3).T"
   ]
  },
  {
   "cell_type": "code",
   "execution_count": 170,
   "metadata": {},
   "outputs": [
    {
     "data": {
      "text/plain": [
       "<matplotlib.contour.QuadContourSet at 0x7fe4bf29f990>"
      ]
     },
     "execution_count": 170,
     "metadata": {},
     "output_type": "execute_result"
    },
    {
     "data": {
      "image/png": "[encoded data removed]",
      "text/plain": [
       "<Figure size 640x480 with 1 Axes>"
      ]
     },
     "metadata": {},
     "output_type": "display_data"
    }
   ],
   "source": [
    "plt.contour(XX, YY, Z)\n"
   ]
  },
  {
   "cell_type": "code",
   "execution_count": 173,
   "metadata": {},
   "outputs": [
    {
     "data": {
      "text/plain": [
       "array([[0, 1],\n",
       "       [0, 1],\n",
       "       [0, 1]])"
      ]
     },
     "execution_count": 173,
     "metadata": {},
     "output_type": "execute_result"
    }
   ],
   "source": [
    "XX"
   ]
  },
  {
   "cell_type": "code",
   "execution_count": 174,
   "metadata": {},
   "outputs": [
    {
     "data": {
      "text/plain": [
       "array([[2, 2],\n",
       "       [3, 3],\n",
       "       [4, 4]])"
      ]
     },
     "execution_count": 174,
     "metadata": {},
     "output_type": "execute_result"
    }
   ],
   "source": [
    "YY"
   ]
  },
  {
   "cell_type": "code",
   "execution_count": 171,
   "metadata": {},
   "outputs": [
    {
     "data": {
      "text/plain": [
       "array([[3., 4.],\n",
       "       [4., 5.],\n",
       "       [5., 6.]])"
      ]
     },
     "execution_count": 171,
     "metadata": {},
     "output_type": "execute_result"
    }
   ],
   "source": [
    "Z"
   ]
  },
  {
   "cell_type": "code",
   "execution_count": 159,
   "metadata": {},
   "outputs": [
    {
     "data": {
      "text/plain": [
       "array([[0, 1],\n",
       "       [0, 1],\n",
       "       [0, 1]])"
      ]
     },
     "execution_count": 159,
     "metadata": {},
     "output_type": "execute_result"
    }
   ],
   "source": [
    "XX"
   ]
  },
  {
   "cell_type": "code",
   "execution_count": 155,
   "metadata": {},
   "outputs": [
    {
     "data": {
      "text/plain": [
       "array([[3., 4., 5.],\n",
       "       [4., 5., 6.]])"
      ]
     },
     "execution_count": 155,
     "metadata": {},
     "output_type": "execute_result"
    }
   ],
   "source": [
    "averaged_predictions.reshape(2, 3)"
   ]
  },
  {
   "cell_type": "code",
   "execution_count": 146,
   "metadata": {},
   "outputs": [
    {
     "data": {
      "text/plain": [
       "array([[0, 2],\n",
       "       [0, 3],\n",
       "       [0, 4],\n",
       "       [1, 2],\n",
       "       [1, 3],\n",
       "       [1, 4]])"
      ]
     },
     "execution_count": 146,
     "metadata": {},
     "output_type": "execute_result"
    }
   ],
   "source": [
    "grid"
   ]
  },
  {
   "cell_type": "code",
   "execution_count": 148,
   "metadata": {},
   "outputs": [
    {
     "data": {
      "text/plain": [
       "[array([list([0, 1]), list([2, 3, 4])], dtype=object)]"
      ]
     },
     "execution_count": 148,
     "metadata": {},
     "output_type": "execute_result"
    }
   ],
   "source": [
    "np.meshgrid(arrays)"
   ]
  },
  {
   "cell_type": "code",
   "execution_count": 145,
   "metadata": {},
   "outputs": [
    {
     "ename": "ValueError",
     "evalue": "cannot reshape array of size 12 into shape (2,3)",
     "output_type": "error",
     "traceback": [
      "\u001b[0;31m---------------------------------------------------------------------------\u001b[0m",
      "\u001b[0;31mValueError\u001b[0m                                Traceback (most recent call last)",
      "\u001b[0;32m/var/folders/7f/qxjj2l_54qz7619sryzlvxfm0000gp/T/ipykernel_1980/968995181.py\u001b[0m in \u001b[0;36m<module>\u001b[0;34m\u001b[0m\n\u001b[0;32m----> 1\u001b[0;31m \u001b[0mgrid\u001b[0m\u001b[0;34m.\u001b[0m\u001b[0mreshape\u001b[0m\u001b[0;34m(\u001b[0m\u001b[0;36m2\u001b[0m\u001b[0;34m,\u001b[0m \u001b[0;36m3\u001b[0m\u001b[0;34m)\u001b[0m\u001b[0;34m\u001b[0m\u001b[0;34m\u001b[0m\u001b[0m\n\u001b[0m",
      "\u001b[0;31mValueError\u001b[0m: cannot reshape array of size 12 into shape (2,3)"
     ]
    }
   ],
   "source": [
    "grid.reshape(2, 3)"
   ]
  },
  {
   "cell_type": "code",
   "execution_count": 144,
   "metadata": {},
   "outputs": [
    {
     "data": {
      "text/plain": [
       "array([[3., 4., 5.],\n",
       "       [4., 5., 6.]])"
      ]
     },
     "execution_count": 144,
     "metadata": {},
     "output_type": "execute_result"
    }
   ],
   "source": [
    "averaged_predictions.reshape(2, 3)"
   ]
  }
 ],
 "metadata": {
  "kernelspec": {
   "display_name": "smt-37",
   "language": "python",
   "name": "smt-37"
  },
  "language_info": {
   "codemirror_mode": {
    "name": "ipython",
    "version": 3
   },
   "file_extension": ".py",
   "mimetype": "text/x-python",
   "name": "python",
   "nbconvert_exporter": "python",
   "pygments_lexer": "ipython3",
   "version": "3.7.16"
  }
 },
 "nbformat": 4,
 "nbformat_minor": 2
}
