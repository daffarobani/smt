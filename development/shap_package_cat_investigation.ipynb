{
 "cells": [
  {
   "cell_type": "code",
   "execution_count": 2,
   "metadata": {},
   "outputs": [],
   "source": [
    "import sys\n",
    "dirname = '/Users/muhammaddaffarobani/Documents/personal_research/smt'\n",
    "if dirname not in sys.path:\n",
    "    sys.path.append(dirname)\n",
    "    \n",
    "from smt.utils.design_space import (\n",
    "    DesignSpace,\n",
    "    FloatVariable,\n",
    "    CategoricalVariable,\n",
    ")\n",
    "from smt.applications.mixed_integer import (\n",
    "    MixedIntegerKrigingModel,\n",
    ")\n",
    "from smt.surrogate_models import (\n",
    "    KPLS,\n",
    "    MixIntKernelType,\n",
    "    MixHrcKernelType,\n",
    ")\n",
    "from smt.explainability_tools import (\n",
    "    ShapFeatureImportanceDisplay, \n",
    "    ShapDisplay,\n",
    "    PartialDependenceDisplay, \n",
    "    PDFeatureImportanceDisplay, \n",
    "    PDFeatureInteractionDisplay\n",
    ")\n",
    "from sklearn.metrics import mean_squared_error\n",
    "\n",
    "import numpy as np\n",
    "import time\n"
   ]
  },
  {
   "cell_type": "code",
   "execution_count": 3,
   "metadata": {},
   "outputs": [],
   "source": [
    "# Objective function\n",
    "def cantilever_deflection(x):\n",
    "    norm_inertia_vals = [\n",
    "        0.0833, 0.139, 0.380, 0.0796,\n",
    "        0.133, 0.363, 0.0859, 0.136,\n",
    "        0.360, 0.0922, 0.138, 0.369,\n",
    "    ]\n",
    "    \n",
    "    I = int(x[0])\n",
    "    L = x[1]\n",
    "    S = x[2]\n",
    "    norm_inertia = norm_inertia_vals[I]\n",
    "\n",
    "    E = 200e9\n",
    "    P = 50e3\n",
    "\n",
    "    y = (P * L**3) / (3 * E * S**2 * norm_inertia)\n",
    "\n",
    "    return y\n",
    "\n",
    "def cantilever_deflection_vectorized(X):\n",
    "    y = np.zeros(X.shape[0])\n",
    "    for i in range(X.shape[0]):\n",
    "        y[i] = cantilever_deflection(X[i, :])\n",
    "    return y"
   ]
  },
  {
   "cell_type": "code",
   "execution_count": 4,
   "metadata": {},
   "outputs": [
    {
     "name": "stdout",
     "output_type": "stream",
     "text": [
      "CPU times: user 6.24 s, sys: 257 ms, total: 6.49 s\n",
      "Wall time: 6.52 s\n"
     ]
    }
   ],
   "source": [
    "%%time\n",
    "\"\"\"Problem definition\"\"\"\n",
    "# Design space\n",
    "ds = DesignSpace([\n",
    "    CategoricalVariable([\n",
    "        \"type_A\", \"type_B\", \"type_C\", \"type_D\", \n",
    "        \"type_E\", \"type_F\", \"type_G\", \"type_H\", \n",
    "        \"type_I\", \"type_J\", \"type_K\", \"type_L\",\n",
    "    ]),\n",
    "    FloatVariable(10.0, 20.0),\n",
    "    FloatVariable(1.0, 2.0),\n",
    "])\n",
    "categorical_feature_idx = [0]\n",
    "\n",
    "f_obj = cantilever_deflection\n",
    "\n",
    "# Create training and testing data\n",
    "n_data = 1000\n",
    "n_train = int(0.8 * n_data)\n",
    "n_test = n_data - n_train\n",
    "xdoe, _ = ds.sample_valid_x(n_data)\n",
    "y_doe = [f_obj(xdoe[i]) for i in range(len(xdoe))]\n",
    "\n",
    "X_tr, y_tr = xdoe[:n_train, :], y_doe[:n_train]\n",
    "X_te, y_te = xdoe[n_train:, :], y_doe[n_train:]\n",
    "y_tr, y_te = np.array(y_tr), np.array(y_te)\n",
    "\n",
    "# Name of the features\n",
    "feature_names = [r'$I$', r'$L$', r'$S$']\n",
    "\n",
    "# create mapping for the categories\n",
    "categories_map = dict()\n",
    "inverse_categories_map = dict()\n",
    "for feature_idx in categorical_feature_idx:\n",
    "    categories_map[feature_idx] = {\n",
    "        i: value for i, value in enumerate(ds._design_variables[feature_idx].values)\n",
    "    }\n",
    "    inverse_categories_map[feature_idx] = {\n",
    "        value: i for value, i in enumerate(ds._design_variables[feature_idx].values)\n",
    "    }"
   ]
  },
  {
   "cell_type": "code",
   "execution_count": 5,
   "metadata": {},
   "outputs": [],
   "source": [
    "import pandas as pd\n",
    "import matplotlib.pyplot as plt"
   ]
  },
  {
   "cell_type": "code",
   "execution_count": 6,
   "metadata": {},
   "outputs": [],
   "source": [
    "X_tr_df = pd.DataFrame(X_tr, columns=[\"I\", \"L\", \"S\"])\n",
    "X_te_df = pd.DataFrame(X_te, columns=[\"I\", \"L\", \"S\"])\n",
    "X_tr_df[\"I\"] = X_tr_df[\"I\"].astype(int).astype(str) \n",
    "X_te_df[\"I\"] = X_te_df[\"I\"].astype(int).astype(str) \n",
    "\n"
   ]
  },
  {
   "cell_type": "code",
   "execution_count": 7,
   "metadata": {},
   "outputs": [],
   "source": [
    "class GroundTruthModel:\n",
    "    def predict_values(self, X):\n",
    "        return cantilever_deflection_vectorized(X)\n",
    "\n",
    "model = GroundTruthModel()"
   ]
  },
  {
   "cell_type": "code",
   "execution_count": 8,
   "metadata": {},
   "outputs": [
    {
     "name": "stderr",
     "output_type": "stream",
     "text": [
      "IProgress not found. Please update jupyter and ipywidgets. See https://ipywidgets.readthedocs.io/en/stable/user_install.html\n"
     ]
    }
   ],
   "source": [
    "import shap"
   ]
  },
  {
   "cell_type": "code",
   "execution_count": 9,
   "metadata": {},
   "outputs": [
    {
     "name": "stderr",
     "output_type": "stream",
     "text": [
      "Using 800 background data samples could cause slower run times. Consider using shap.sample(data, K) or shap.kmeans(data, K) to summarize the background as K samples.\n",
      "100%|██████████| 800/800 [00:33<00:00, 23.98it/s]\n"
     ]
    }
   ],
   "source": [
    "shap_explainer = shap.KernelExplainer(model.predict_values, np.array(X_tr_df))\n",
    "shap_values = shap_explainer(np.array(X_tr_df))"
   ]
  },
  {
   "cell_type": "code",
   "execution_count": 10,
   "metadata": {},
   "outputs": [
    {
     "data": {
      "image/png": "[encoded data removed]",
      "text/plain": [
       "<Figure size 800x300 with 1 Axes>"
      ]
     },
     "metadata": {},
     "output_type": "display_data"
    }
   ],
   "source": [
    "shap.plots.bar(shap_values)"
   ]
  },
  {
   "cell_type": "code",
   "execution_count": 14,
   "metadata": {},
   "outputs": [],
   "source": [
    "data = shap_values.data[:, 0]\n",
    "values = shap_values.values[:, 0]\n",
    "\n",
    "temp = pd.DataFrame({\"data\": data, \"values\": values})\n"
   ]
  },
  {
   "cell_type": "code",
   "execution_count": 15,
   "metadata": {},
   "outputs": [],
   "source": [
    "grid = [str(i) for i in np.arange(12)]\n",
    "boxplot_values = []\n",
    "for i in grid:\n",
    "    boxplot_values.append(temp[\"values\"].loc[temp[\"data\"]==i])"
   ]
  },
  {
   "cell_type": "code",
   "execution_count": 16,
   "metadata": {},
   "outputs": [
    {
     "data": {
      "image/png": "[encoded data removed]",
      "text/plain": [
       "<Figure size 640x480 with 1 Axes>"
      ]
     },
     "metadata": {},
     "output_type": "display_data"
    }
   ],
   "source": [
    "plt.boxplot(boxplot_values)\n",
    "plt.show()"
   ]
  }
 ],
 "metadata": {
  "kernelspec": {
   "display_name": "smt_38",
   "language": "python",
   "name": "python3"
  },
  "language_info": {
   "codemirror_mode": {
    "name": "ipython",
    "version": 3
   },
   "file_extension": ".py",
   "mimetype": "text/x-python",
   "name": "python",
   "nbconvert_exporter": "python",
   "pygments_lexer": "ipython3",
   "version": "3.8.18"
  }
 },
 "nbformat": 4,
 "nbformat_minor": 2
}
