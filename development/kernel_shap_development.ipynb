{
 "cells": [
  {
   "cell_type": "code",
   "execution_count": 65,
   "metadata": {},
   "outputs": [],
   "source": [
    "import numpy as np\n",
    "import pandas as pd\n",
    "import itertools\n",
    "\n",
    "import matplotlib.pyplot as plt"
   ]
  },
  {
   "cell_type": "code",
   "execution_count": 29,
   "metadata": {},
   "outputs": [],
   "source": [
    "def f(X):\n",
    "    np.random.seed(0)\n",
    "    beta = np.random.rand(X.shape[-1])\n",
    "    return np.dot(X, beta) + 10\n",
    "\n",
    "\n",
    "def powerset(iterable):\n",
    "    s = list(iterable)\n",
    "    return itertools.chain.from_iterable(\n",
    "        itertools.combinations(s, r) for r in range(len(s) + 1)\n",
    "    )"
   ]
  },
  {
   "cell_type": "code",
   "execution_count": 2,
   "metadata": {},
   "outputs": [],
   "source": [
    "M = 4\n",
    "np.random.seed(1)\n",
    "x = np.random.randn(M)"
   ]
  },
  {
   "cell_type": "code",
   "execution_count": 8,
   "metadata": {},
   "outputs": [],
   "source": [
    "beta = np.random.rand(x.shape[-1])\n",
    "f_x = np.dot(x, beta) + 10"
   ]
  },
  {
   "cell_type": "code",
   "execution_count": 18,
   "metadata": {},
   "outputs": [],
   "source": []
  },
  {
   "cell_type": "code",
   "execution_count": 31,
   "metadata": {},
   "outputs": [],
   "source": [
    "reference = np.zeros(M)\n",
    "\n",
    "X = np.zeros((2**M, M + 1))\n",
    "X[:, -1] = 1\n",
    "weights = np.zeros(2**M)\n",
    "\n",
    "V = np.zeros((2**M, M))\n",
    "for i in range(2**M):\n",
    "    V[i, :] = reference\n",
    "\n",
    "ws = {}\n",
    "for i, s in enumerate(powerset(range(M))):\n",
    "    s = list(s)\n",
    "    V[i, s] = x[s]\n",
    "    X[i, s] = 1\n",
    "    # ws[len(s)] = ws.get(len(s), 0) + shapley_kernel(M, len(s))\n",
    "    # weights[i] = shapley_kernel(M, len(s))"
   ]
  },
  {
   "cell_type": "code",
   "execution_count": 32,
   "metadata": {},
   "outputs": [
    {
     "data": {
      "text/plain": [
       "array([[ 0.        ,  0.        ,  0.        ,  0.        ],\n",
       "       [ 1.62434536,  0.        ,  0.        ,  0.        ],\n",
       "       [ 0.        , -0.61175641,  0.        ,  0.        ],\n",
       "       [ 0.        ,  0.        , -0.52817175,  0.        ],\n",
       "       [ 0.        ,  0.        ,  0.        , -1.07296862],\n",
       "       [ 1.62434536, -0.61175641,  0.        ,  0.        ],\n",
       "       [ 1.62434536,  0.        , -0.52817175,  0.        ],\n",
       "       [ 1.62434536,  0.        ,  0.        , -1.07296862],\n",
       "       [ 0.        , -0.61175641, -0.52817175,  0.        ],\n",
       "       [ 0.        , -0.61175641,  0.        , -1.07296862],\n",
       "       [ 0.        ,  0.        , -0.52817175, -1.07296862],\n",
       "       [ 1.62434536, -0.61175641, -0.52817175,  0.        ],\n",
       "       [ 1.62434536, -0.61175641,  0.        , -1.07296862],\n",
       "       [ 1.62434536,  0.        , -0.52817175, -1.07296862],\n",
       "       [ 0.        , -0.61175641, -0.52817175, -1.07296862],\n",
       "       [ 1.62434536, -0.61175641, -0.52817175, -1.07296862]])"
      ]
     },
     "execution_count": 32,
     "metadata": {},
     "output_type": "execute_result"
    }
   ],
   "source": [
    "V"
   ]
  },
  {
   "cell_type": "markdown",
   "metadata": {},
   "source": [
    "# Trial on wing weight"
   ]
  },
  {
   "cell_type": "code",
   "execution_count": 36,
   "metadata": {},
   "outputs": [],
   "source": [
    "import sys\n",
    "dirname = '/Users/muhammaddaffarobani/Documents/personal_research/smt'\n",
    "if dirname not in sys.path:\n",
    "    sys.path.append(dirname)\n",
    "\n",
    "import pandas as pd\n",
    "import numpy as np\n",
    "from smt.surrogate_models import KRG\n",
    "from smt.problems import WingWeight\n",
    "from smt.sampling_methods import LHS\n",
    "from sklearn.metrics import mean_squared_error\n",
    "\n",
    "\n",
    "from smt.applications.explainability_tools import (\n",
    "    PartialDependenceDisplay, \n",
    "    PDFeatureImportanceDisplay, \n",
    "    PDFeatureInteractionDisplay,\n",
    "    ShapFeatureImportanceDisplay,\n",
    "    ShapDisplay,\n",
    "    ShapDisplay2,\n",
    "    individual_shap_values,\n",
    ")\n"
   ]
  },
  {
   "cell_type": "code",
   "execution_count": 34,
   "metadata": {},
   "outputs": [],
   "source": [
    "ndoe = 100 \n",
    "fun = WingWeight()\n",
    "sampling = LHS(xlimits=fun.xlimits, criterion='ese', random_state=1)\n",
    "X = sampling(ndoe)\n",
    "y = fun(X)\n",
    "\n",
    "n_train = int(0.8 * ndoe)\n",
    "\n",
    "X_tr, y_tr = X[:n_train, :], y[:n_train]\n",
    "X_te, y_te = X[n_train:, :], y[n_train:]\n",
    "\n",
    "## config\n",
    "feature_names = [\n",
    "    r'$S_{w}$', r'$W_{fw}$', r'$A$', r'$\\Delta$', \n",
    "    r'$q$', r'$\\lambda$', r'$t_{c}$', r'$N_{z}$', \n",
    "    r'$W_{dg}$', r'$W_{p}$',\n",
    "]\n",
    "\n",
    "class GroundTruthModel:\n",
    "    def predict_values(self, X):\n",
    "        return fun(X)"
   ]
  },
  {
   "cell_type": "code",
   "execution_count": 35,
   "metadata": {},
   "outputs": [
    {
     "name": "stdout",
     "output_type": "stream",
     "text": [
      "Ground truth model\n",
      "RMSE: 0.0000\n",
      "rRMSE: 0.0000\n"
     ]
    }
   ],
   "source": [
    "print(\"Ground truth model\")\n",
    "gtm = GroundTruthModel()\n",
    "y_pred = gtm.predict_values(X_te)\n",
    "rmse = mean_squared_error(y_te, y_pred, squared=False)\n",
    "rrmse = rmse / y_te.mean()\n",
    "print(f\"RMSE: {rmse:.4f}\")\n",
    "print(f\"rRMSE: {rrmse:.4f}\")"
   ]
  },
  {
   "cell_type": "code",
   "execution_count": 38,
   "metadata": {},
   "outputs": [],
   "source": [
    "shap_values_1 = individual_shap_values(X_te[:5], gtm, X_tr, [False]*X_tr.shape[1])"
   ]
  },
  {
   "cell_type": "code",
   "execution_count": 39,
   "metadata": {},
   "outputs": [
    {
     "data": {
      "text/plain": [
       "array([[ 2.37668078e+01,  1.68743274e-01,  1.59515435e+01,\n",
       "         8.02488253e-01, -3.13393033e-01,  2.37548710e+00,\n",
       "        -8.04822153e+00, -1.84499795e+01,  1.56197187e+01,\n",
       "        -3.65090610e+00],\n",
       "       [-2.63070026e+00,  1.07122252e-01, -1.03923668e+01,\n",
       "         5.64212813e-02,  6.21939170e-01, -1.36788962e+00,\n",
       "         4.06419521e+01,  3.78713190e+01, -1.63356262e+01,\n",
       "         3.54943294e+00],\n",
       "       [-6.79674047e+00, -1.06472376e-03,  3.05940607e+01,\n",
       "         3.77508202e-01, -3.06589460e-01, -9.62389046e-01,\n",
       "        -2.40620032e+01,  4.50441700e+01,  1.08620205e+01,\n",
       "         2.82538276e+00],\n",
       "       [ 2.83322403e+01, -8.77251607e-02,  2.69903986e+01,\n",
       "         8.18161170e-02, -1.04175469e+00,  1.16413727e+00,\n",
       "        -2.73688780e+00, -7.05879459e+00, -1.00162585e+01,\n",
       "        -1.69430453e+00],\n",
       "       [ 2.89330857e+01, -4.75904746e-02,  1.21505437e+01,\n",
       "         1.55365319e+00,  4.42606923e-01,  3.11162822e+00,\n",
       "         4.81343356e+00, -3.54456560e+00, -9.37929990e+00,\n",
       "        -3.46941763e+00]])"
      ]
     },
     "execution_count": 39,
     "metadata": {},
     "output_type": "execute_result"
    }
   ],
   "source": [
    "shap_values_1"
   ]
  },
  {
   "cell_type": "code",
   "execution_count": 107,
   "metadata": {},
   "outputs": [],
   "source": [
    "from itertools import product\n",
    "from scipy.special import comb\n",
    "\n",
    "def create_mask_array(m):\n",
    "    mask = np.array(list(product(range(2), repeat=m)))\n",
    "    # remove mask where all elements are 0 / 1\n",
    "    mask = mask[\n",
    "        (~np.all(mask == 0, axis=1)) &\n",
    "        (~np.all(mask == 1, axis=1))\n",
    "    ]\n",
    "    return mask\n",
    "\n",
    "def get_reference_feature_values(x, is_categorical):\n",
    "    # get reference values for each feature\n",
    "    # if the feature is categorical/ordinal -> mode\n",
    "    # else -> mean\n",
    "    num_features = x.shape[1]\n",
    "    reference_values = np.zeros(num_features)\n",
    "    for feature_idx in range(num_features):\n",
    "        if is_categorical[feature_idx] == 1:\n",
    "            # mode = stats.mode(x[:, feature_idx], keepdims=False)[0]\n",
    "            # reference_values[feature_idx] = mode\n",
    "            reference_values[feature_idx] = np.random.choice(x[:, feature_idx])\n",
    "        else:\n",
    "            mean = np.mean(x[:, feature_idx])\n",
    "            reference_values[feature_idx] = mean\n",
    "    return reference_values\n",
    "\n",
    "\n",
    "def get_reference_feature_values_2(x):\n",
    "    # get reference values for each feature\n",
    "    # if the feature is categorical/ordinal -> mode\n",
    "    # else -> mean\n",
    "    num_features = x.shape[1]\n",
    "    reference_values = np.zeros(num_features)\n",
    "    for feature_idx in range(num_features):\n",
    "        reference_values[feature_idx] = np.random.choice(x[:, feature_idx])\n",
    "    return reference_values\n",
    "\n",
    "\n",
    "def calculate_weight(mask_row):\n",
    "    m = len(mask_row)\n",
    "    z = np.sum(mask_row)\n",
    "    numerator = m - 1\n",
    "    denominator = comb(m, z) * z * (m - z)\n",
    "    weight = numerator / denominator\n",
    "    return weight\n",
    "\n",
    "\n",
    "def compute_shap_values(\n",
    "    mask,\n",
    "    s_full,\n",
    "    weights,\n",
    "    reference_values,\n",
    "    model,\n",
    "):\n",
    "    y = model.predict_values(s_full)\n",
    "    # b0 = model.predict_values(reference_values.reshape(1, -1))\n",
    "    b0 = model.predict_values(reference_values)\n",
    "    y = y - b0\n",
    "\n",
    "    w = np.diag(weights)\n",
    "\n",
    "    b = np.dot(\n",
    "        np.linalg.inv(np.dot(np.dot(mask.transpose(), w), mask)),\n",
    "        np.dot(np.dot(mask.transpose(), w), y)\n",
    "    )\n",
    "    b = b.reshape(-1, )\n",
    "    return b\n",
    "\n",
    "\n",
    "def compute_shap_values_2(\n",
    "    mask,\n",
    "    s_full,\n",
    "    weights,\n",
    "    model,\n",
    "):\n",
    "    y = model.predict_values(s_full)\n",
    "    # b0 = model.predict_values(reference_values.reshape(1, -1))\n",
    "    # b0 = model.predict_values(reference_values)\n",
    "    # y = y - b0\n",
    "    mask_2 = np.ones((mask.shape[0], mask.shape[1]+1))\n",
    "    mask_2[:, :-1] = mask\n",
    "\n",
    "    w = np.diag(weights)\n",
    "    w = np.sqrt(w)\n",
    "\n",
    "    b = np.dot(\n",
    "        np.linalg.inv(np.dot(np.dot(mask_2.transpose(), w), mask_2)),\n",
    "        np.dot(np.dot(mask_2.transpose(), w), y)\n",
    "    )\n",
    "    b = b.reshape(-1, )\n",
    "    b = b[:-1]\n",
    "\n",
    "    return b\n",
    "\n",
    "\n",
    "\n",
    "def individual_shap_values_2(\n",
    "    instances,\n",
    "    model,\n",
    "    x,\n",
    "    is_categorical,\n",
    "):\n",
    "    # reference_values = get_reference_feature_values(x, is_categorical)\n",
    "    shap_values = list()\n",
    "\n",
    "    for instance in instances:\n",
    "        instance = instance.reshape(1, -1)\n",
    "        mask = create_mask_array(instance.shape[1])\n",
    "        mask = np.repeat(mask, 10, axis=0)\n",
    "        # s_with_zero = mask * instance\n",
    "        reference_values = np.ones(mask.shape)\n",
    "        for i in range(len(reference_values)):\n",
    "            reference_values[i, :] = get_reference_feature_values_2(x)\n",
    "        # s_full = (s_with_zero == 0) * reference_values + s_with_zero\n",
    "        s_ref = (mask == 0) * reference_values\n",
    "        s_real = (mask == 1) * instance\n",
    "        s_full = s_ref + s_real\n",
    "\n",
    "        weights = np.apply_along_axis(calculate_weight, 1, mask)\n",
    "        shap_value = compute_shap_values_2(\n",
    "            mask,\n",
    "            s_full,\n",
    "            weights,\n",
    "            reference_values,\n",
    "            model,\n",
    "        )\n",
    "        shap_values.append(shap_value)\n",
    "    shap_values = np.array(shap_values)\n",
    "    return shap_values\n",
    "\n",
    "\n",
    "def individual_shap_values_3(instances, model, x):\n",
    "    shap_values = list()\n",
    "\n",
    "    for instance in instances:\n",
    "        instance = instance.reshape(1, -1)\n",
    "        mask = create_mask_array(instance.shape[1])\n",
    "        mask = np.repeat(mask, 10, axis=0)\n",
    "        weights = np.apply_along_axis(calculate_weight, 1, mask)\n",
    "\n",
    "        s_full = np.where(mask == 1, instance, x[np.random.randint(x.shape[0])])\n",
    "\n",
    "        shap_value = compute_shap_values_2(\n",
    "            mask,\n",
    "            s_full,\n",
    "            weights,\n",
    "            model,\n",
    "        )\n",
    "        shap_values.append(shap_value)\n",
    "    shap_values = np.array(shap_values)\n",
    "    return shap_values\n",
    "\n",
    "    \n",
    "\n"
   ]
  },
  {
   "cell_type": "code",
   "execution_count": 105,
   "metadata": {},
   "outputs": [],
   "source": [
    "shap_values_1 = individual_shap_values(X_tr, gtm, X_tr, [False]*X_tr.shape[1])"
   ]
  },
  {
   "cell_type": "code",
   "execution_count": 108,
   "metadata": {},
   "outputs": [],
   "source": [
    "shap_values_2 = individual_shap_values_3(X_tr[:3], gtm, X_tr)"
   ]
  },
  {
   "cell_type": "code",
   "execution_count": 110,
   "metadata": {},
   "outputs": [
    {
     "data": {
      "text/plain": [
       "array([[ 6.18330252e+00,  1.38281762e-01, -3.54616751e+01,\n",
       "         4.59151659e-01,  6.57703342e-01, -4.06904366e-01,\n",
       "        -2.08303277e+01,  2.76609129e+01,  1.58723781e+01,\n",
       "        -2.72529511e+00],\n",
       "       [-1.13174865e+01, -1.83463663e-01,  3.03998768e+01,\n",
       "         9.42807913e-02, -3.71836877e-03, -4.76546767e+00,\n",
       "         1.97117208e+01,  4.10660228e+01,  2.11564763e+01,\n",
       "        -8.39920375e-01],\n",
       "       [-1.04213763e+01, -1.10822681e-01, -9.22013000e+00,\n",
       "         3.09935761e+00,  6.05037128e-01, -1.85815974e+00,\n",
       "         2.76035664e+01,  1.06329658e+01,  1.14103418e+01,\n",
       "        -4.75057108e-01]])"
      ]
     },
     "execution_count": 110,
     "metadata": {},
     "output_type": "execute_result"
    }
   ],
   "source": [
    "shap_values_1[:3]"
   ]
  },
  {
   "cell_type": "code",
   "execution_count": 109,
   "metadata": {},
   "outputs": [
    {
     "data": {
      "text/plain": [
       "array([[-3.59579444e+00,  6.90192377e-02, -1.77975203e+01,\n",
       "        -2.69417740e+00,  9.46879091e-01, -3.52677227e+00,\n",
       "        -3.44649888e+01, -2.62471540e+00,  1.76848568e+01,\n",
       "        -6.85952011e-01],\n",
       "       [-3.33997087e+01,  2.15347866e-02,  6.57951404e+01,\n",
       "        -1.04189772e+00, -7.76108169e-02, -6.28167544e+00,\n",
       "         3.99072326e+01,  3.46674105e+01,  4.06053125e+01,\n",
       "        -1.44260959e+00],\n",
       "       [-5.11558998e+00, -2.69785454e-01, -3.96269777e+01,\n",
       "         3.57596749e+00,  1.81612084e+00, -4.34103544e+00,\n",
       "         1.37709806e+01, -3.62981602e+01,  1.82430328e+00,\n",
       "         1.37179296e+00]])"
      ]
     },
     "execution_count": 109,
     "metadata": {},
     "output_type": "execute_result"
    }
   ],
   "source": [
    "shap_values_2"
   ]
  }
 ],
 "metadata": {
  "kernelspec": {
   "display_name": "smt_38",
   "language": "python",
   "name": "python3"
  },
  "language_info": {
   "codemirror_mode": {
    "name": "ipython",
    "version": 3
   },
   "file_extension": ".py",
   "mimetype": "text/x-python",
   "name": "python",
   "nbconvert_exporter": "python",
   "pygments_lexer": "ipython3",
   "version": "3.8.18"
  }
 },
 "nbformat": 4,
 "nbformat_minor": 2
}
