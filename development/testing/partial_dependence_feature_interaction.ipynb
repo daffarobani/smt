{
 "cells": [
  {
   "cell_type": "code",
   "execution_count": 32,
   "metadata": {},
   "outputs": [],
   "source": [
    "from smt.utils.sm_test_case import SMTestCase\n",
    "from smt.problems import WingWeight\n",
    "from smt.sampling_methods import LHS\n",
    "from smt.surrogate_models import KRG\n",
    "\n",
    "from smt.applications.explainability_tools import PDFeatureInteractionDisplay\n",
    "\n",
    "from smt.problems import MixedCantileverBeam\n",
    "from smt.utils.design_space import (\n",
    "    DesignSpace,\n",
    "    FloatVariable,\n",
    "    CategoricalVariable,\n",
    ")\n",
    "from smt.applications.mixed_integer import MixedIntegerKrigingModel\n",
    "from smt.surrogate_models import (\n",
    "    KPLS,\n",
    "    MixIntKernelType,\n",
    "    MixHrcKernelType,\n",
    ")\n",
    "import numpy as np\n",
    "import itertools\n",
    "import random"
   ]
  },
  {
   "cell_type": "code",
   "execution_count": 2,
   "metadata": {},
   "outputs": [
    {
     "name": "stdout",
     "output_type": "stream",
     "text": [
      "___________________________________________________________________________\n",
      "   \n",
      "                                  Kriging\n",
      "___________________________________________________________________________\n",
      "   \n",
      " Problem size\n",
      "   \n",
      "      # training points.        : 300\n",
      "   \n",
      "___________________________________________________________________________\n",
      "   \n",
      " Training\n",
      "   \n",
      "   Training ...\n",
      "   Training - done. Time (sec):  5.1846051\n"
     ]
    }
   ],
   "source": [
    "nsamples = 300\n",
    "fun = WingWeight()\n",
    "sampling = LHS(xlimits=fun.xlimits, criterion='ese', random_state=1)\n",
    "x = sampling(nsamples)\n",
    "y = fun(x)\n",
    "\n",
    "feature_names = [\n",
    "    r'$S_{w}$', r'$W_{fw}$', r'$A$', r'$\\Delta$',\n",
    "    r'$q$', r'$\\lambda$', r'$t_{c}$', r'$N_{z}$',\n",
    "    r'$W_{dg}$', r'$W_{p}$',\n",
    "]\n",
    "\n",
    "sm = KRG(\n",
    "    theta0=[1e-2] * x.shape[1],\n",
    "    print_prediction=False\n",
    ")\n",
    "sm.set_training_values(x, y)\n",
    "sm.train()"
   ]
  },
  {
   "cell_type": "code",
   "execution_count": 13,
   "metadata": {},
   "outputs": [
    {
     "data": {
      "image/png": "[encoded data removed]",
      "text/plain": [
       "<Figure size 600x400 with 1 Axes>"
      ]
     },
     "execution_count": 13,
     "metadata": {},
     "output_type": "execute_result"
    }
   ],
   "source": [
    "overall_pd_interaction = PDFeatureInteractionDisplay.overall_interaction(\n",
    "    sm,\n",
    "    x,\n",
    "    feature_names=feature_names, \n",
    "    ratio_samples=0.2,\n",
    ")\n",
    "fig = overall_pd_interaction.plot()\n",
    "fig"
   ]
  },
  {
   "cell_type": "code",
   "execution_count": 14,
   "metadata": {},
   "outputs": [],
   "source": [
    "assert len(overall_pd_interaction.h_scores) == x.shape[1]"
   ]
  },
  {
   "cell_type": "code",
   "execution_count": 19,
   "metadata": {},
   "outputs": [
    {
     "name": "stdout",
     "output_type": "stream",
     "text": [
      "CPU times: user 2.67 s, sys: 5.29 s, total: 7.95 s\n",
      "Wall time: 1.12 s\n"
     ]
    },
    {
     "data": {
      "image/png": "[encoded data removed]",
      "text/plain": [
       "<Figure size 500x400 with 1 Axes>"
      ]
     },
     "execution_count": 19,
     "metadata": {},
     "output_type": "execute_result"
    }
   ],
   "source": [
    "%%time\n",
    "feature_pairs = [(0, 1), (2, 5), (8, 3)]\n",
    "\n",
    "pairwise_pd_interaction = PDFeatureInteractionDisplay.pairwise_interaction(\n",
    "    sm,\n",
    "    x,\n",
    "    feature_pairs,\n",
    "    feature_names=feature_names,\n",
    "    ratio_samples=0.2,\n",
    ")\n",
    "fig = pairwise_pd_interaction.plot()\n",
    "fig"
   ]
  },
  {
   "cell_type": "code",
   "execution_count": 36,
   "metadata": {},
   "outputs": [
    {
     "data": {
      "text/plain": [
       "[(0, 1), (1, 2), (0, 2)]"
      ]
     },
     "execution_count": 36,
     "metadata": {},
     "output_type": "execute_result"
    }
   ],
   "source": [
    "feature_pairs = list(itertools.combinations(np.arange(3), 2))\n",
    "random.shuffle(feature_pairs)\n",
    "feature_pairs"
   ]
  },
  {
   "cell_type": "code",
   "execution_count": 21,
   "metadata": {},
   "outputs": [],
   "source": [
    "assert len(pairwise_pd_interaction.h_scores) == len(feature_pairs)"
   ]
  },
  {
   "cell_type": "code",
   "execution_count": 22,
   "metadata": {},
   "outputs": [],
   "source": [
    "ndoe = 100\n",
    "fun = MixedCantileverBeam()\n",
    "# Design space\n",
    "ds = DesignSpace([\n",
    "    CategoricalVariable(values=[str(i + 1) for i in range(12)]),\n",
    "    FloatVariable(10.0, 20.0),\n",
    "    FloatVariable(1.0, 2.0),\n",
    "])\n",
    "x = fun.sample(ndoe)\n",
    "y = fun(x)\n",
    "\n",
    "# Name of the features\n",
    "feature_names = [r'$\\tilde{I}$', r'$L$', r'$S$']\n",
    "# Index for categorical features\n",
    "categorical_feature_indices = [0]\n",
    "# create mapping for the categories\n",
    "categories_map = dict()\n",
    "for feature_idx in categorical_feature_indices:\n",
    "    categories_map[feature_idx] = {\n",
    "        i: value for i, value in enumerate(ds._design_variables[feature_idx].values)\n",
    "    }\n",
    "\n",
    "sm = MixedIntegerKrigingModel(\n",
    "    surrogate=KPLS(\n",
    "        design_space=ds,\n",
    "        categorical_kernel=MixIntKernelType.HOMO_HSPHERE,\n",
    "        hierarchical_kernel=MixHrcKernelType.ARC_KERNEL,\n",
    "        theta0=np.array([4.43799547e-04, 4.39993134e-01, 1.59631650e+00]),\n",
    "        corr=\"squar_exp\",\n",
    "        n_start=1,\n",
    "        cat_kernel_comps=[2],\n",
    "        n_comp=2,\n",
    "        print_global=False,\n",
    "        ),\n",
    "    )\n",
    "sm.set_training_values(x, np.array(y))\n",
    "sm.train()"
   ]
  },
  {
   "cell_type": "code",
   "execution_count": 23,
   "metadata": {},
   "outputs": [
    {
     "data": {
      "image/png": "[encoded data removed]",
      "text/plain": [
       "<Figure size 500x400 with 1 Axes>"
      ]
     },
     "execution_count": 23,
     "metadata": {},
     "output_type": "execute_result"
    }
   ],
   "source": [
    "overall_pd_interaction = PDFeatureInteractionDisplay.overall_interaction(\n",
    "    sm,\n",
    "    x,\n",
    "    feature_names=feature_names, \n",
    "    ratio_samples=0.2,\n",
    "    categorical_feature_indices=categorical_feature_indices,\n",
    ")\n",
    "fig = overall_pd_interaction.plot()\n",
    "fig"
   ]
  },
  {
   "cell_type": "code",
   "execution_count": 24,
   "metadata": {},
   "outputs": [],
   "source": [
    "assert len(overall_pd_interaction.h_scores) == x.shape[1]"
   ]
  },
  {
   "cell_type": "code",
   "execution_count": 90,
   "metadata": {},
   "outputs": [
    {
     "name": "stdout",
     "output_type": "stream",
     "text": [
      "CPU times: user 15.4 s, sys: 16.1 s, total: 31.5 s\n",
      "Wall time: 4.24 s\n"
     ]
    },
    {
     "data": {
      "image/png": "[encoded data removed]",
      "text/plain": [
       "<Figure size 500x400 with 1 Axes>"
      ]
     },
     "execution_count": 90,
     "metadata": {},
     "output_type": "execute_result"
    }
   ],
   "source": [
    "%%time\n",
    "# feature_pairs = [(0, 1), (1, 2), (0, 2)]\n",
    "num_feature_pairs = 3\n",
    "\n",
    "# feature_pairs = list(itertools.combinations(np.arange(x.shape[1]).astype(int), 2))\n",
    "feature_pairs = list(itertools.combinations([i for i in range(x.shape[1])], 2))\n",
    "random.shuffle(feature_pairs)\n",
    "feature_pairs = feature_pairs[:num_feature_pairs]\n",
    "# feature_pairs = [(0, 1), (1, 2), (0, 2)]\n",
    "\n",
    "pairwise_pd_interaction = PDFeatureInteractionDisplay.pairwise_interaction(\n",
    "    sm,\n",
    "    x,\n",
    "    feature_pairs,\n",
    "    feature_names=feature_names,\n",
    "    ratio_samples=0.2,\n",
    "    categorical_feature_indices=categorical_feature_indices,\n",
    ")\n",
    "fig = pairwise_pd_interaction.plot()\n",
    "fig"
   ]
  },
  {
   "cell_type": "code",
   "execution_count": 86,
   "metadata": {},
   "outputs": [
    {
     "data": {
      "text/plain": [
       "[0, 1, 2]"
      ]
     },
     "execution_count": 86,
     "metadata": {},
     "output_type": "execute_result"
    }
   ],
   "source": [
    "list(np.arange(x.shape[1]).astype(int))"
   ]
  },
  {
   "cell_type": "code",
   "execution_count": 74,
   "metadata": {},
   "outputs": [
    {
     "data": {
      "text/plain": [
       "[(0, 2), (1, 2), (0, 1)]"
      ]
     },
     "execution_count": 74,
     "metadata": {},
     "output_type": "execute_result"
    }
   ],
   "source": [
    "list(list(feature_pairs))"
   ]
  },
  {
   "cell_type": "code",
   "execution_count": 76,
   "metadata": {},
   "outputs": [
    {
     "data": {
      "text/plain": [
       "tuple"
      ]
     },
     "execution_count": 76,
     "metadata": {},
     "output_type": "execute_result"
    }
   ],
   "source": [
    "type(feature_pairs[0])"
   ]
  },
  {
   "cell_type": "code",
   "execution_count": 72,
   "metadata": {},
   "outputs": [
    {
     "data": {
      "text/plain": [
       "[(0, 2), (1, 2), (0, 1)]"
      ]
     },
     "execution_count": 72,
     "metadata": {},
     "output_type": "execute_result"
    }
   ],
   "source": [
    "list(feature_pairs)"
   ]
  },
  {
   "cell_type": "code",
   "execution_count": 57,
   "metadata": {},
   "outputs": [
    {
     "data": {
      "text/plain": [
       "True"
      ]
     },
     "execution_count": 57,
     "metadata": {},
     "output_type": "execute_result"
    }
   ],
   "source": [
    "feature_pairs == [(1, 2), (0, 2), (0, 1)]"
   ]
  },
  {
   "cell_type": "code",
   "execution_count": 48,
   "metadata": {},
   "outputs": [
    {
     "data": {
      "text/plain": [
       "array([0, 1, 2])"
      ]
     },
     "execution_count": 48,
     "metadata": {},
     "output_type": "execute_result"
    }
   ],
   "source": []
  },
  {
   "cell_type": "code",
   "execution_count": 45,
   "metadata": {},
   "outputs": [
    {
     "data": {
      "text/plain": [
       "[(0, 1), (1, 2), (0, 2)]"
      ]
     },
     "execution_count": 45,
     "metadata": {},
     "output_type": "execute_result"
    }
   ],
   "source": [
    "feature_pairs"
   ]
  },
  {
   "cell_type": "code",
   "execution_count": 27,
   "metadata": {},
   "outputs": [],
   "source": [
    "assert len(pairwise_pd_interaction.h_scores) == len(feature_pairs)"
   ]
  },
  {
   "cell_type": "code",
   "execution_count": 37,
   "metadata": {},
   "outputs": [],
   "source": [
    "num_feature_pairs = 3\n",
    "\n",
    "feature_pairs = list(itertools.combinations(np.arange(x.shape[1]), 2))\n",
    "random.shuffle(feature_pairs)\n",
    "feature_pairs = feature_pairs[:num_feature_pairs]"
   ]
  },
  {
   "cell_type": "code",
   "execution_count": 39,
   "metadata": {},
   "outputs": [
    {
     "data": {
      "text/plain": [
       "(0, 2)"
      ]
     },
     "execution_count": 39,
     "metadata": {},
     "output_type": "execute_result"
    }
   ],
   "source": [
    "feature_pairs[0]"
   ]
  }
 ],
 "metadata": {
  "kernelspec": {
   "display_name": "smt_38",
   "language": "python",
   "name": "python3"
  },
  "language_info": {
   "codemirror_mode": {
    "name": "ipython",
    "version": 3
   },
   "file_extension": ".py",
   "mimetype": "text/x-python",
   "name": "python",
   "nbconvert_exporter": "python",
   "pygments_lexer": "ipython3",
   "version": "3.8.18"
  }
 },
 "nbformat": 4,
 "nbformat_minor": 2
}
