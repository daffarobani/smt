{
 "cells": [
  {
   "cell_type": "code",
   "execution_count": 2,
   "metadata": {},
   "outputs": [],
   "source": [
    "from smt.utils.sm_test_case import SMTestCase\n",
    "from smt.problems import WingWeight\n",
    "from smt.sampling_methods import LHS\n",
    "from smt.surrogate_models import KRG\n",
    "\n",
    "from smt.applications.explainability_tools import ShapFeatureImportanceDisplay\n",
    "\n",
    "from smt.problems import MixedCantileverBeam\n",
    "from smt.utils.design_space import (\n",
    "    DesignSpace,\n",
    "    FloatVariable,\n",
    "    CategoricalVariable,\n",
    ")\n",
    "from smt.applications.mixed_integer import MixedIntegerKrigingModel\n",
    "from smt.surrogate_models import (\n",
    "    KPLS,\n",
    "    MixIntKernelType,\n",
    "    MixHrcKernelType,\n",
    ")\n",
    "import numpy as np\n",
    "import unittest\n",
    "import itertools\n",
    "import random\n",
    "\n",
    "\n",
    "class NumericalTestProblem:\n",
    "    def __init__(self, num_samples):\n",
    "        fun = WingWeight()\n",
    "        sampling = LHS(xlimits=fun.xlimits, criterion='ese', random_state=1)\n",
    "        x = sampling(num_samples)\n",
    "        y = fun(x)\n",
    "\n",
    "        feature_names = [\n",
    "            r'$S_{w}$', r'$W_{fw}$', r'$A$', r'$\\Delta$',\n",
    "            r'$q$', r'$\\lambda$', r'$t_{c}$', r'$N_{z}$',\n",
    "            r'$W_{dg}$', r'$W_{p}$',\n",
    "        ]\n",
    "\n",
    "        sm = KRG(\n",
    "            theta0=[1e-2] * x.shape[1],\n",
    "            print_prediction=False\n",
    "        )\n",
    "        sm.set_training_values(x, y)\n",
    "        sm.train()\n",
    "\n",
    "        self.model = sm\n",
    "        self.x = x\n",
    "        self.feature_names = feature_names\n",
    "\n",
    "\n",
    "class MixedTestProblem:\n",
    "    def __init__(self, num_samples):\n",
    "        fun = MixedCantileverBeam()\n",
    "        # Design space\n",
    "        ds = DesignSpace([\n",
    "            CategoricalVariable(values=[str(i + 1) for i in range(12)]),\n",
    "            FloatVariable(10.0, 20.0),\n",
    "            FloatVariable(1.0, 2.0),\n",
    "        ])\n",
    "        x = fun.sample(num_samples)\n",
    "        y = fun(x)\n",
    "\n",
    "        # Name of the features\n",
    "        feature_names = [r'$\\tilde{I}$', r'$L$', r'$S$']\n",
    "        # Index for categorical features\n",
    "        categorical_feature_indices = [0]\n",
    "\n",
    "        sm = MixedIntegerKrigingModel(\n",
    "            surrogate=KPLS(\n",
    "                design_space=ds,\n",
    "                categorical_kernel=MixIntKernelType.HOMO_HSPHERE,\n",
    "                hierarchical_kernel=MixHrcKernelType.ARC_KERNEL,\n",
    "                theta0=np.array([4.43799547e-04, 4.39993134e-01, 1.59631650e+00]),\n",
    "                corr=\"squar_exp\",\n",
    "                n_start=1,\n",
    "                cat_kernel_comps=[2],\n",
    "                n_comp=2,\n",
    "                print_global=False,\n",
    "            ),\n",
    "        )\n",
    "        sm.set_training_values(x, np.array(y))\n",
    "        sm.train()\n",
    "\n",
    "        self.model = sm\n",
    "        self.x = x\n",
    "        self.feature_names = feature_names\n",
    "        self.categorical_feature_indices = categorical_feature_indices"
   ]
  },
  {
   "cell_type": "code",
   "execution_count": 3,
   "metadata": {},
   "outputs": [
    {
     "name": "stdout",
     "output_type": "stream",
     "text": [
      "___________________________________________________________________________\n",
      "   \n",
      "                                  Kriging\n",
      "___________________________________________________________________________\n",
      "   \n",
      " Problem size\n",
      "   \n",
      "      # training points.        : 300\n",
      "   \n",
      "___________________________________________________________________________\n",
      "   \n",
      " Training\n",
      "   \n",
      "   Training ...\n",
      "   Training - done. Time (sec):  5.4003041\n"
     ]
    }
   ],
   "source": [
    "test_problem = NumericalTestProblem(300)"
   ]
  },
  {
   "cell_type": "code",
   "execution_count": 4,
   "metadata": {},
   "outputs": [],
   "source": [
    "shap_importance = ShapFeatureImportanceDisplay.from_surrogate_model(\n",
    "    test_problem.model, \n",
    "    test_problem.x, \n",
    "    feature_names=test_problem.feature_names\n",
    ")\n",
    "fig = shap_importance.plot()\n",
    "assert len(shap_importance.feature_importances) == test_problem.x.shape[1]"
   ]
  },
  {
   "cell_type": "code",
   "execution_count": 7,
   "metadata": {},
   "outputs": [
    {
     "data": {
      "image/png": "[encoded data removed]",
      "text/plain": [
       "<Figure size 500x400 with 1 Axes>"
      ]
     },
     "execution_count": 7,
     "metadata": {},
     "output_type": "execute_result"
    }
   ],
   "source": [
    "test_problem = MixedTestProblem(100)\n",
    "shap_importance = ShapFeatureImportanceDisplay.from_surrogate_model(\n",
    "    test_problem.model, \n",
    "    test_problem.x, \n",
    "    feature_names=test_problem.feature_names,\n",
    "    categorical_feature_indices=test_problem.categorical_feature_indices,\n",
    ")\n",
    "fig = shap_importance.plot()\n",
    "assert len(shap_importance.feature_importances) == test_problem.x.shape[1]\n",
    "fig"
   ]
  }
 ],
 "metadata": {
  "kernelspec": {
   "display_name": "smt_38",
   "language": "python",
   "name": "python3"
  },
  "language_info": {
   "codemirror_mode": {
    "name": "ipython",
    "version": 3
   },
   "file_extension": ".py",
   "mimetype": "text/x-python",
   "name": "python",
   "nbconvert_exporter": "python",
   "pygments_lexer": "ipython3",
   "version": "3.8.18"
  }
 },
 "nbformat": 4,
 "nbformat_minor": 2
}
