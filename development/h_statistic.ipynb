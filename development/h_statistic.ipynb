{
 "cells": [
  {
   "cell_type": "code",
   "execution_count": 1,
   "metadata": {},
   "outputs": [],
   "source": [
    "import numpy as np\n",
    "import pandas as pd"
   ]
  },
  {
   "cell_type": "code",
   "execution_count": 17,
   "metadata": {},
   "outputs": [],
   "source": [
    "n = 3\n",
    "eval_1 = list()\n",
    "for i in range(1, n+1):\n",
    "    for j in range(1, n+1):\n",
    "        current = f\"x_1{i}, x_2{j}, x_3{j}\"\n",
    "        eval_1.append(current)\n",
    "\n",
    "eval_2 = list()\n",
    "for i in range(1, n+1):\n",
    "    for j in range(1, n+1):\n",
    "        current = f\"x_1{j}, x_2{i}, x_3{j}\"\n",
    "        eval_2.append(current)\n",
    "\n",
    "eval_all = list()\n",
    "for i in range(1, n+1):\n",
    "    for j in range(1, n+1):\n",
    "        current = f\"x_1{i}, x_2{i}, x_3{j}\"\n",
    "        eval_all.append(current) \n",
    "\n",
    "# eval_1 = set(eval_1)\n",
    "# eval_2 = set(eval_2)\n",
    "# eval_all = set(eval_all)"
   ]
  },
  {
   "cell_type": "code",
   "execution_count": 19,
   "metadata": {},
   "outputs": [],
   "source": [
    "check = pd.Series(eval_1+eval_2+eval_all)"
   ]
  },
  {
   "cell_type": "code",
   "execution_count": 22,
   "metadata": {},
   "outputs": [
    {
     "data": {
      "text/plain": [
       "21"
      ]
     },
     "execution_count": 22,
     "metadata": {},
     "output_type": "execute_result"
    }
   ],
   "source": [
    "len(check.drop_duplicates())"
   ]
  },
  {
   "cell_type": "code",
   "execution_count": 14,
   "metadata": {},
   "outputs": [
    {
     "data": {
      "text/plain": [
       "{'x_11, x_21, x_31', 'x_12, x_22, x_32', 'x_13, x_23, x_33'}"
      ]
     },
     "execution_count": 14,
     "metadata": {},
     "output_type": "execute_result"
    }
   ],
   "source": [
    "eval_1.intersection(eval_2)"
   ]
  },
  {
   "cell_type": "code",
   "execution_count": 24,
   "metadata": {},
   "outputs": [
    {
     "data": {
      "text/plain": [
       "['x_11, x_21, x_31',\n",
       " 'x_11, x_21, x_32',\n",
       " 'x_11, x_21, x_33',\n",
       " 'x_12, x_22, x_31',\n",
       " 'x_12, x_22, x_32',\n",
       " 'x_12, x_22, x_33',\n",
       " 'x_13, x_23, x_31',\n",
       " 'x_13, x_23, x_32',\n",
       " 'x_13, x_23, x_33']"
      ]
     },
     "execution_count": 24,
     "metadata": {},
     "output_type": "execute_result"
    }
   ],
   "source": [
    "eval_all"
   ]
  }
 ],
 "metadata": {
  "kernelspec": {
   "display_name": "smt-37",
   "language": "python",
   "name": "smt-37"
  },
  "language_info": {
   "codemirror_mode": {
    "name": "ipython",
    "version": 3
   },
   "file_extension": ".py",
   "mimetype": "text/x-python",
   "name": "python",
   "nbconvert_exporter": "python",
   "pygments_lexer": "ipython3",
   "version": "3.7.16"
  }
 },
 "nbformat": 4,
 "nbformat_minor": 2
}
