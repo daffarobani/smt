{
 "cells": [
  {
   "cell_type": "code",
   "execution_count": 1,
   "id": "121b9d36-dfa9-4266-af1b-520094b4f4bd",
   "metadata": {
    "tags": []
   },
   "outputs": [],
   "source": [
    "import sys\n",
    "dirname = '/Users/m.daffarobani/Documents/personal_research/smt'\n",
    "if dirname not in sys.path:\n",
    "    sys.path.append(dirname)\n",
    "\n",
    "from scipy import linalg\n",
    "from smt.utils.misc import compute_rms_error\n",
    "\n",
    "from smt.problems import Sphere, NdimRobotArm, Rosenbrock\n",
    "from smt.sampling_methods import LHS\n",
    "from smt.surrogate_models import LS, QP, KPLS, KRG, KPLSK, GEKPLS, MGP\n",
    "\n",
    "#to ignore warning messages\n",
    "import warnings\n",
    "warnings.filterwarnings(\"ignore\")\n",
    "\n",
    "import matplotlib.pyplot as plt\n",
    "import scipy.interpolate\n",
    "\n",
    "from mpl_toolkits.mplot3d import Axes3D\n",
    "import matplotlib.pyplot as plt\n",
    "from matplotlib import cm\n",
    "plot_status = True"
   ]
  },
  {
   "cell_type": "code",
   "execution_count": 2,
   "id": "34718c00-0e43-44d4-b8ff-b6e4997743e1",
   "metadata": {
    "tags": []
   },
   "outputs": [],
   "source": [
    "import numpy as np\n",
    "from scipy.stats.mstats import mquantiles\n",
    "\n",
    "def _grid_from_x(X, percentiles, is_categorical, grid_resolution):\n",
    "    values = []\n",
    "    # Numeric features\n",
    "    for i in range(X.shape[1]):\n",
    "        emp_percentiles = mquantiles(X)\n",
    "        \n",
    "def cartesian(arrays, out=None):\n",
    "    \"\"\"Generate a cartesian product of input arrays.\n",
    "\n",
    "    Parameters\n",
    "    ----------\n",
    "    arrays : list of array-like\n",
    "        1-D arrays to form the cartesian product of.\n",
    "    out : ndarray of shape (M, len(arrays)), default=None\n",
    "        Array to place the cartesian product in.\n",
    "\n",
    "    Returns\n",
    "    -------\n",
    "    out : ndarray of shape (M, len(arrays))\n",
    "        Array containing the cartesian products formed of input arrays.\n",
    "        If not provided, the `dtype` of the output array is set to the most\n",
    "        permissive `dtype` of the input arrays, according to NumPy type\n",
    "        promotion.\n",
    "\n",
    "        .. versionadded:: 1.2\n",
    "           Add support for arrays of different types.\n",
    "\n",
    "    Notes\n",
    "    -----\n",
    "    This function may not be used on more than 32 arrays\n",
    "    because the underlying numpy functions do not support it.\n",
    "\n",
    "    Examples\n",
    "    --------\n",
    "    >>> from sklearn.utils.extmath import cartesian\n",
    "    >>> cartesian(([1, 2, 3], [4, 5], [6, 7]))\n",
    "    array([[1, 4, 6],\n",
    "           [1, 4, 7],\n",
    "           [1, 5, 6],\n",
    "           [1, 5, 7],\n",
    "           [2, 4, 6],\n",
    "           [2, 4, 7],\n",
    "           [2, 5, 6],\n",
    "           [2, 5, 7],\n",
    "           [3, 4, 6],\n",
    "           [3, 4, 7],\n",
    "           [3, 5, 6],\n",
    "           [3, 5, 7]])\n",
    "    \"\"\"\n",
    "    arrays = [np.asarray(x) for x in arrays]\n",
    "    shape = (len(x) for x in arrays)\n",
    "\n",
    "    ix = np.indices(shape)\n",
    "    ix = ix.reshape(len(arrays), -1).T\n",
    "\n",
    "    if out is None:\n",
    "        dtype = np.result_type(*arrays)  # find the most permissive dtype\n",
    "        out = np.empty_like(ix, dtype=dtype)\n",
    "\n",
    "    for n, arr in enumerate(arrays):\n",
    "        out[:, n] = arrays[n][ix[:, n]]\n",
    "\n",
    "    return out"
   ]
  },
  {
   "cell_type": "code",
   "execution_count": 3,
   "id": "571f76cc-5c7e-4e5f-8a0d-59bab9c04612",
   "metadata": {
    "tags": []
   },
   "outputs": [],
   "source": [
    "ndim = 2\n",
    "ndoe = 20 #int(10*ndim)\n",
    "fun = Rosenbrock(ndim=ndim)\n",
    "sampling = LHS(xlimits=fun.xlimits, criterion='ese', random_state=1)\n",
    "xt = sampling(ndoe)"
   ]
  },
  {
   "cell_type": "code",
   "execution_count": 11,
   "id": "96e7a5a8-e0f8-414c-a77c-21e9643e9bc2",
   "metadata": {
    "tags": []
   },
   "outputs": [],
   "source": [
    "xt"
   ]
  },
  {
   "cell_type": "code",
   "execution_count": 4,
   "id": "6a4bd63b-d8aa-49b7-9db7-5e33d74b5a44",
   "metadata": {
    "tags": []
   },
   "outputs": [],
   "source": [
    "percentiles = (0.05, 0.95)\n",
    "is_categorical = None\n",
    "grid_resolution = 100\n",
    "\n",
    "X = xt\n",
    "values = []\n",
    "for i in range(X.shape[1]):\n",
    "    emp_percentiles = mquantiles(X[:, i], prob=percentiles, axis=0)\n",
    "    if np.allclose(emp_percentiles[0], emp_percentiles[1]):\n",
    "        raise ValueError(\n",
    "            \"percentiles are too close to each other, \"\n",
    "            \"unable to build the grid. Please choose percentiles \"\n",
    "            \"that are further apart.\"\n",
    "        )\n",
    "    axis = np.linspace(\n",
    "        emp_percentiles[0],\n",
    "        emp_percentiles[1],\n",
    "        num=grid_resolution,\n",
    "        endpoint=True)\n",
    "    values.append(axis)"
   ]
  },
  {
   "cell_type": "code",
   "execution_count": 6,
   "id": "3a5ea577-5293-4e8f-ad1a-b85f3f39a21e",
   "metadata": {
    "tags": []
   },
   "outputs": [],
   "source": [
    "grid = cartesian(values)"
   ]
  },
  {
   "cell_type": "code",
   "execution_count": 7,
   "id": "d29d5822-000b-4ab3-8173-fb5f3805af19",
   "metadata": {
    "tags": []
   },
   "outputs": [
    {
     "data": {
      "text/plain": [
       "array([[-1.86878202, -1.80821044],\n",
       "       [-1.86878202, -1.77100673],\n",
       "       [-1.86878202, -1.73380303],\n",
       "       ...,\n",
       "       [ 1.77645109,  1.80054892],\n",
       "       [ 1.77645109,  1.83775263],\n",
       "       [ 1.77645109,  1.87495633]])"
      ]
     },
     "execution_count": 7,
     "metadata": {},
     "output_type": "execute_result"
    }
   ],
   "source": [
    "grid"
   ]
  },
  {
   "cell_type": "code",
   "execution_count": null,
   "id": "bfbbe671-7a5d-416a-a41c-ea9386b74823",
   "metadata": {
    "tags": []
   },
   "outputs": [
    {
     "data": {
      "text/plain": [
       "1.740618059032943"
      ]
     },
     "execution_count": 22,
     "metadata": {},
     "output_type": "execute_result"
    }
   ],
   "source": [
    "np.quantile(X[:,0], 0.95)"
   ]
  },
  {
   "cell_type": "code",
   "execution_count": 19,
   "id": "fbbf6ce3",
   "metadata": {},
   "outputs": [
    {
     "ename": "ValueError",
     "evalue": "Interaction of features hasn't been developed",
     "output_type": "error",
     "traceback": [
      "\u001b[0;31m---------------------------------------------------------------------------\u001b[0m",
      "\u001b[0;31mValueError\u001b[0m                                Traceback (most recent call last)",
      "\u001b[0;32m/var/folders/7f/qxjj2l_54qz7619sryzlvxfm0000gp/T/ipykernel_1384/3353009534.py\u001b[0m in \u001b[0;36m<module>\u001b[0;34m\u001b[0m\n\u001b[1;32m      6\u001b[0m         \u001b[0;32melif\u001b[0m \u001b[0mlen\u001b[0m\u001b[0;34m(\u001b[0m\u001b[0mfeature\u001b[0m\u001b[0;34m)\u001b[0m \u001b[0;34m==\u001b[0m \u001b[0;36m2\u001b[0m\u001b[0;34m:\u001b[0m\u001b[0;34m\u001b[0m\u001b[0;34m\u001b[0m\u001b[0m\n\u001b[1;32m      7\u001b[0m             \u001b[0mfeatures\u001b[0m\u001b[0;34m[\u001b[0m\u001b[0mi\u001b[0m\u001b[0;34m]\u001b[0m \u001b[0;34m=\u001b[0m \u001b[0mtuple\u001b[0m\u001b[0;34m(\u001b[0m\u001b[0mfeature\u001b[0m\u001b[0;34m)\u001b[0m\u001b[0;34m\u001b[0m\u001b[0;34m\u001b[0m\u001b[0m\n\u001b[0;32m----> 8\u001b[0;31m             \u001b[0;32mraise\u001b[0m \u001b[0mValueError\u001b[0m\u001b[0;34m(\u001b[0m\u001b[0;34m\"Interaction of features hasn't been developed\"\u001b[0m\u001b[0;34m)\u001b[0m\u001b[0;34m\u001b[0m\u001b[0;34m\u001b[0m\u001b[0m\n\u001b[0m\u001b[1;32m      9\u001b[0m         \u001b[0;32melse\u001b[0m\u001b[0;34m:\u001b[0m\u001b[0;34m\u001b[0m\u001b[0;34m\u001b[0m\u001b[0m\n\u001b[1;32m     10\u001b[0m             \u001b[0;32mraise\u001b[0m \u001b[0mValueError\u001b[0m\u001b[0;34m(\u001b[0m\u001b[0;34m\"Interaction features can't be more than two.\"\u001b[0m\u001b[0;34m)\u001b[0m\u001b[0;34m\u001b[0m\u001b[0;34m\u001b[0m\u001b[0m\n",
      "\u001b[0;31mValueError\u001b[0m: Interaction of features hasn't been developed"
     ]
    }
   ],
   "source": [
    "features = [0, 1, (0, 1), [0, 1], [2]]\n",
    "for i, feature in enumerate(features):\n",
    "    if type(feature) in [tuple, list]:\n",
    "        if len(feature) == 1:\n",
    "            features[i] = feature[0]\n",
    "        elif len(feature) == 2:\n",
    "            features[i] = tuple(feature)\n",
    "            raise ValueError(\"Interaction of features hasn't been developed\")\n",
    "        else:\n",
    "            raise ValueError(\"Interaction features can't be more than two.\")\n",
    "features"
   ]
  },
  {
   "cell_type": "code",
   "execution_count": 16,
   "id": "2ba3a53e",
   "metadata": {},
   "outputs": [
    {
     "data": {
      "text/plain": [
       "[0, 1, (0, 1), (0, 1)]"
      ]
     },
     "execution_count": 16,
     "metadata": {},
     "output_type": "execute_result"
    }
   ],
   "source": [
    "features"
   ]
  },
  {
   "cell_type": "code",
   "execution_count": 12,
   "id": "a061c4b7",
   "metadata": {},
   "outputs": [],
   "source": [
    "features[3] = tuple(features[3])"
   ]
  },
  {
   "cell_type": "code",
   "execution_count": 13,
   "id": "65b9b90d",
   "metadata": {},
   "outputs": [
    {
     "data": {
      "text/plain": [
       "[0, 1, (0, 1), (0, 1)]"
      ]
     },
     "execution_count": 13,
     "metadata": {},
     "output_type": "execute_result"
    }
   ],
   "source": [
    "features"
   ]
  },
  {
   "cell_type": "code",
   "execution_count": 21,
   "id": "c2ea4567",
   "metadata": {},
   "outputs": [
    {
     "data": {
      "text/plain": [
       "array([[ 1.53837542, -0.62437651],\n",
       "       [ 1.73730019,  1.08422153]])"
      ]
     },
     "execution_count": 21,
     "metadata": {},
     "output_type": "execute_result"
    }
   ],
   "source": [
    "X[(0, 1), :]"
   ]
  },
  {
   "cell_type": "code",
   "execution_count": 23,
   "id": "e3fc99e6",
   "metadata": {},
   "outputs": [
    {
     "data": {
      "text/plain": [
       "True"
      ]
     },
     "execution_count": 23,
     "metadata": {},
     "output_type": "execute_result"
    }
   ],
   "source": [
    "type(1) is int"
   ]
  }
 ],
 "metadata": {
  "kernelspec": {
   "display_name": "smt-37",
   "language": "python",
   "name": "smt-37"
  },
  "language_info": {
   "codemirror_mode": {
    "name": "ipython",
    "version": 3
   },
   "file_extension": ".py",
   "mimetype": "text/x-python",
   "name": "python",
   "nbconvert_exporter": "python",
   "pygments_lexer": "ipython3",
   "version": "3.7.16"
  }
 },
 "nbformat": 4,
 "nbformat_minor": 5
}
