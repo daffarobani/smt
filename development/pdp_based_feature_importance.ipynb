{
 "cells": [
  {
   "cell_type": "code",
   "execution_count": 8,
   "metadata": {},
   "outputs": [],
   "source": [
    "import sys\n",
    "dirname = '/Users/m.daffarobani/Documents/personal_research/smt'\n",
    "if dirname not in sys.path:\n",
    "    sys.path.append(dirname)\n",
    "\n",
    "from smt.explainability_tools import partial_dependence\n",
    "from smt.explainability_tools._pd_feature_importance import pd_feature_importance\n",
    "# from smt.explainability_tools import PartialDependenceDisplay\n",
    "\n",
    "import pandas as pd\n",
    "import numpy as np\n",
    "from smt.surrogate_models import KRG\n",
    "from sklearn.metrics import mean_squared_error\n",
    "import matplotlib.pyplot as plt\n"
   ]
  },
  {
   "cell_type": "code",
   "execution_count": 2,
   "metadata": {},
   "outputs": [
    {
     "name": "stdout",
     "output_type": "stream",
     "text": [
      "___________________________________________________________________________\n",
      "   \n",
      "                                  Kriging\n",
      "___________________________________________________________________________\n",
      "   \n",
      " Problem size\n",
      "   \n",
      "      # training points.        : 500\n",
      "   \n",
      "___________________________________________________________________________\n",
      "   \n",
      " Training\n",
      "   \n",
      "   Training ...\n",
      "   Training - done. Time (sec): 12.0940919\n"
     ]
    },
    {
     "data": {
      "text/plain": [
       "0.04697580133054768"
      ]
     },
     "execution_count": 2,
     "metadata": {},
     "output_type": "execute_result"
    }
   ],
   "source": [
    "X_tr = pd.read_csv('../../X_tr_wing_weight.csv')\n",
    "X_te = pd.read_csv('../../X_te_wing_weight.csv')\n",
    "y_tr = pd.read_csv('../../y_tr_wing_weight.csv')\n",
    "y_te = pd.read_csv('../../y_te_wing_weight.csv')\n",
    "X_tr = np.array(X_tr)\n",
    "X_te = np.array(X_te)\n",
    "y_tr = np.array(y_tr)\n",
    "y_te = np.array(y_te)\n",
    "\n",
    "kriging_model = KRG(theta0=[1e-2]*X_tr.shape[1],print_prediction = False)\n",
    "kriging_model.set_training_values(X_tr, y_tr)\n",
    "\n",
    "kriging_model.train()\n",
    "\n",
    "y_pred = kriging_model.predict_values(X_te)\n",
    "rmse = mean_squared_error(y_te, y_pred, squared=False)\n",
    "rmse"
   ]
  },
  {
   "cell_type": "code",
   "execution_count": 3,
   "metadata": {},
   "outputs": [],
   "source": [
    "# model = kriging_model\n",
    "# features = [0, 1, 2, 3, 4, 5, 6, 7, 8, 9]\n",
    "# pd_results = partial_dependence(model, X_tr, features, kind=\"average\")"
   ]
  },
  {
   "cell_type": "code",
   "execution_count": 4,
   "metadata": {},
   "outputs": [],
   "source": [
    "model = kriging_model\n",
    "features = [0, 1, 2, 3, 4, 5, 6, 7, 8, 9]\n",
    "importances = pd_feature_importance(model, X_tr, features)"
   ]
  },
  {
   "cell_type": "code",
   "execution_count": 39,
   "metadata": {},
   "outputs": [
    {
     "data": {
      "image/png": "[encoded data removed]",
      "text/plain": [
       "<Figure size 600x400 with 1 Axes>"
      ]
     },
     "metadata": {},
     "output_type": "display_data"
    }
   ],
   "source": [
    "feature_names = None\n",
    "sorted = False\n",
    "\n",
    "if feature_names is None:\n",
    "    feature_names = [fr'$x_{i}$' for i in range(len(importances))]\n",
    "\n",
    "feature_names = np.array(feature_names)\n",
    "importances = np.array(importances)\n",
    "if not sorted:\n",
    "    vis_feature_names = feature_names[np.argsort(importances*-1)]\n",
    "    vis_importances = importances[np.argsort(importances*-1)]\n",
    "else:\n",
    "    vis_feature_names = feature_names\n",
    "    vis_importances = importances\n",
    "\n",
    "fig, ax = plt.subplots(1, 1, figsize=[len(vis_importances)*0.6, 4])\n",
    "ax.bar(np.arange(len(vis_importances)), vis_importances, color='blue', edgecolor='black', linewidth=0.8)\n",
    "ax.set_xticks(np.arange(len(vis_importances)))\n",
    "ax.set_xticklabels(vis_feature_names, fontsize=14)\n",
    "fig.tight_layout()"
   ]
  },
  {
   "cell_type": "code",
   "execution_count": 28,
   "metadata": {},
   "outputs": [
    {
     "ename": "TypeError",
     "evalue": "only integer scalar arrays can be converted to a scalar index",
     "output_type": "error",
     "traceback": [
      "\u001b[0;31m---------------------------------------------------------------------------\u001b[0m",
      "\u001b[0;31mTypeError\u001b[0m                                 Traceback (most recent call last)",
      "\u001b[0;32m/var/folders/7f/qxjj2l_54qz7619sryzlvxfm0000gp/T/ipykernel_4135/4040896925.py\u001b[0m in \u001b[0;36m<module>\u001b[0;34m\u001b[0m\n\u001b[0;32m----> 1\u001b[0;31m \u001b[0mfeature_names\u001b[0m \u001b[0;34m=\u001b[0m \u001b[0mfeature_names\u001b[0m\u001b[0;34m[\u001b[0m\u001b[0mnp\u001b[0m\u001b[0;34m.\u001b[0m\u001b[0margsort\u001b[0m\u001b[0;34m(\u001b[0m\u001b[0mimportances\u001b[0m\u001b[0;34m)\u001b[0m\u001b[0;34m]\u001b[0m\u001b[0;34m\u001b[0m\u001b[0;34m\u001b[0m\u001b[0m\n\u001b[0m",
      "\u001b[0;31mTypeError\u001b[0m: only integer scalar arrays can be converted to a scalar index"
     ]
    }
   ],
   "source": [
    "feature_names = feature_names[np.argsort(importances)]"
   ]
  },
  {
   "cell_type": "code",
   "execution_count": 5,
   "metadata": {},
   "outputs": [],
   "source": [
    "# pd_result = pd_results[7]\n",
    "# average_pd= pd_result['average']\n",
    "# k = len(average_pd)\n",
    "# mean = np.mean(average_pd)\n",
    "# importance = np.power(np.sum((average_pd - mean)**2) / (k-1), 0.5)\n",
    "# importance"
   ]
  }
 ],
 "metadata": {
  "kernelspec": {
   "display_name": "smt-37",
   "language": "python",
   "name": "smt-37"
  },
  "language_info": {
   "codemirror_mode": {
    "name": "ipython",
    "version": 3
   },
   "file_extension": ".py",
   "mimetype": "text/x-python",
   "name": "python",
   "nbconvert_exporter": "python",
   "pygments_lexer": "ipython3",
   "version": "3.7.16"
  }
 },
 "nbformat": 4,
 "nbformat_minor": 2
}
