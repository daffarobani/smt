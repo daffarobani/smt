{
 "cells": [
  {
   "cell_type": "code",
   "execution_count": 1,
   "metadata": {},
   "outputs": [],
   "source": [
    "import sys\n",
    "dirname = '/Users/muhammaddaffarobani/Documents/personal_research/smt'\n",
    "if dirname not in sys.path:\n",
    "    sys.path.append(dirname)\n",
    "    \n",
    "from smt.utils.design_space import (\n",
    "    DesignSpace,\n",
    "    FloatVariable,\n",
    "    CategoricalVariable,\n",
    ")\n",
    "from smt.applications.mixed_integer import (\n",
    "    MixedIntegerKrigingModel,\n",
    ")\n",
    "from smt.surrogate_models import (\n",
    "    KPLS,\n",
    "    MixIntKernelType,\n",
    "    MixHrcKernelType,\n",
    ")\n",
    "from smt.explainability_tools import (\n",
    "    ShapFeatureImportanceDisplay, \n",
    "    ShapDisplay,\n",
    "    PartialDependenceDisplay, \n",
    "    PDFeatureImportanceDisplay, \n",
    "    PDFeatureInteractionDisplay\n",
    ")\n",
    "from sklearn.metrics import mean_squared_error\n",
    "\n",
    "import numpy as np\n",
    "import pandas as pd\n",
    "import time\n"
   ]
  },
  {
   "cell_type": "code",
   "execution_count": 2,
   "metadata": {},
   "outputs": [],
   "source": [
    "# Objective function\n",
    "def cantilever_deflection(x):\n",
    "    norm_inertia_vals = [\n",
    "        0.0833, 0.139, 0.380, 0.0796,\n",
    "        0.133, 0.363, 0.0859, 0.136,\n",
    "        0.360, 0.0922, 0.138, 0.369,\n",
    "    ]\n",
    "    \n",
    "    I = int(x[0])\n",
    "    L = x[1]\n",
    "    S = x[2]\n",
    "    norm_inertia = norm_inertia_vals[I]\n",
    "\n",
    "    E = 200e9\n",
    "    P = 50e3\n",
    "\n",
    "    y = (P * L**3) / (3 * E * S**2 * norm_inertia)\n",
    "\n",
    "    return y\n",
    "\n",
    "def cantilever_deflection_vectorized(X):\n",
    "    y = np.zeros(X.shape[0])\n",
    "    for i in range(X.shape[0]):\n",
    "        y[i] = cantilever_deflection(X[i, :])\n",
    "    return y"
   ]
  },
  {
   "cell_type": "code",
   "execution_count": 3,
   "metadata": {},
   "outputs": [
    {
     "name": "stdout",
     "output_type": "stream",
     "text": [
      "CPU times: user 2.6 s, sys: 15.9 ms, total: 2.62 s\n",
      "Wall time: 2.62 s\n"
     ]
    }
   ],
   "source": [
    "%%time\n",
    "\"\"\"Problem definition\"\"\"\n",
    "# Design space\n",
    "ds = DesignSpace([\n",
    "    CategoricalVariable([\n",
    "        \"type_A\", \"type_B\", \"type_C\", \"type_D\", \n",
    "        \"type_E\", \"type_F\", \"type_G\", \"type_H\", \n",
    "        \"type_I\", \"type_J\", \"type_K\", \"type_L\",\n",
    "    ]),\n",
    "    FloatVariable(10.0, 20.0),\n",
    "    FloatVariable(1.0, 2.0),\n",
    "])\n",
    "categorical_feature_idx = [0]\n",
    "\n",
    "f_obj = cantilever_deflection\n",
    "\n",
    "# Create training and testing data\n",
    "n_data = 200\n",
    "n_train = int(0.8 * n_data)\n",
    "n_test = n_data - n_train\n",
    "xdoe, _ = ds.sample_valid_x(n_data)\n",
    "y_doe = [f_obj(xdoe[i]) for i in range(len(xdoe))]\n",
    "\n",
    "X_tr, y_tr = xdoe[:n_train, :], y_doe[:n_train]\n",
    "X_te, y_te = xdoe[n_train:, :], y_doe[n_train:]\n",
    "y_tr, y_te = np.array(y_tr), np.array(y_te)\n",
    "\n",
    "# Name of the features\n",
    "feature_names = [r'$I$', r'$L$', r'$S$']\n",
    "\n",
    "# create mapping for the categories\n",
    "categories_map = dict()\n",
    "inverse_categories_map = dict()\n",
    "for feature_idx in categorical_feature_idx:\n",
    "    categories_map[feature_idx] = {\n",
    "        i: value for i, value in enumerate(ds._design_variables[feature_idx].values)\n",
    "    }\n",
    "    inverse_categories_map[feature_idx] = {\n",
    "        value: i for value, i in enumerate(ds._design_variables[feature_idx].values)\n",
    "    }"
   ]
  },
  {
   "cell_type": "code",
   "execution_count": 75,
   "metadata": {},
   "outputs": [],
   "source": [
    "from itertools import product\n",
    "from scipy import stats\n",
    "from scipy.special import comb\n",
    "import numpy as np\n",
    "\n",
    "def get_reference_feature_values(x, is_categorical):\n",
    "    # get reference values for each feature\n",
    "    # if the feature is categorical/ordinal -> mode\n",
    "    # else -> mean\n",
    "    num_features = x.shape[1]\n",
    "    reference_values = np.zeros(num_features)\n",
    "    for feature_idx in range(num_features):\n",
    "        if is_categorical[feature_idx] == 1:\n",
    "            # mode = stats.mode(x[:, feature_idx], keepdims=False)[0]\n",
    "            # reference_values[feature_idx] = mode\n",
    "            reference_values[feature_idx] = np.random.choice(x[:, feature_idx])\n",
    "        else:\n",
    "            mean = np.mean(x[:, feature_idx])\n",
    "            reference_values[feature_idx] = mean\n",
    "    return reference_values\n",
    "\n",
    "def create_mask_array(m):\n",
    "    mask = np.array(list(product(range(2), repeat=m)))\n",
    "    # remove mask where all elements are 0 / 1\n",
    "    mask = mask[\n",
    "        (~np.all(mask == 0, axis=1)) &\n",
    "        (~np.all(mask == 1, axis=1))\n",
    "    ]\n",
    "    return mask\n",
    "\n",
    "\n",
    "def calculate_weight(mask_row):\n",
    "    m = len(mask_row)\n",
    "    z = np.sum(mask_row)\n",
    "    numerator = m - 1\n",
    "    denominator = comb(m, z) * z * (m - z)\n",
    "    weight = numerator / denominator\n",
    "    return weight\n",
    "\n",
    "\n",
    "def compute_shap_values(\n",
    "    mask,\n",
    "    s_full,\n",
    "    weights,\n",
    "    reference_values,\n",
    "    model,\n",
    "):\n",
    "    y = model.predict_values(s_full)\n",
    "    b0 = model.predict_values(reference_values.reshape(1, -1))\n",
    "    y = y - b0\n",
    "\n",
    "    w = np.diag(weights)\n",
    "\n",
    "    b = np.dot(\n",
    "        np.linalg.inv(np.dot(np.dot(mask.transpose(), w), mask)),\n",
    "        np.dot(np.dot(mask.transpose(), w), y)\n",
    "    )\n",
    "    b = b.reshape(-1, )\n",
    "    return b"
   ]
  },
  {
   "cell_type": "code",
   "execution_count": 155,
   "metadata": {},
   "outputs": [],
   "source": [
    "instance = X_tr[0, :].copy()\n",
    "\n",
    "instance = instance.reshape(1, -1)\n",
    "mask = create_mask_array(instance.shape[1])\n",
    "# mask_ = np.where(mask==0, -1, mask)\n",
    "# mask = np.repeat(mask, 3, axis=0)\n",
    "s_with_zero = mask * instance\n",
    "# reference_values = get_reference_feature_values(X_tr, is_categorical)\n",
    "reference_values_ = np.ones(mask.shape)\n",
    "for i in range(len(reference_values_)):\n",
    "    reference_values_[i, :] = get_reference_feature_values(X_tr, is_categorical)\n",
    "\n",
    "s_full = (s_with_zero == 0) * reference_values_ + s_with_zero\n",
    "weights = np.apply_along_axis(calculate_weight, 1, mask)\n"
   ]
  },
  {
   "cell_type": "code",
   "execution_count": 148,
   "metadata": {},
   "outputs": [
    {
     "data": {
      "text/plain": [
       "array([[ 1.        , 15.13224253,  0.        ],\n",
       "       [ 1.        ,  0.        ,  1.51612486],\n",
       "       [ 8.        ,  0.        ,  0.        ],\n",
       "       [ 0.        , 15.13224253,  1.51612486],\n",
       "       [ 0.        , 15.13224253,  0.        ],\n",
       "       [ 0.        ,  0.        ,  1.51612486]])"
      ]
     },
     "execution_count": 148,
     "metadata": {},
     "output_type": "execute_result"
    }
   ],
   "source": [
    "(s_with_zero == 0) * reference_values_"
   ]
  },
  {
   "cell_type": "code",
   "execution_count": 149,
   "metadata": {},
   "outputs": [
    {
     "data": {
      "text/plain": [
       "array([[ 0.        ,  0.        ,  1.05761935],\n",
       "       [ 0.        , 19.05192784,  0.        ],\n",
       "       [ 0.        , 19.05192784,  1.05761935],\n",
       "       [ 3.        ,  0.        ,  0.        ],\n",
       "       [ 3.        ,  0.        ,  1.05761935],\n",
       "       [ 3.        , 19.05192784,  0.        ]])"
      ]
     },
     "execution_count": 149,
     "metadata": {},
     "output_type": "execute_result"
    }
   ],
   "source": [
    "s_with_zero"
   ]
  },
  {
   "cell_type": "code",
   "execution_count": 156,
   "metadata": {},
   "outputs": [],
   "source": [
    "instance = X_tr[0, :].copy()\n",
    "\n",
    "instance = instance.reshape(1, -1)\n",
    "mask = create_mask_array(instance.shape[1])\n",
    "\n",
    "# reference_values = get_reference_feature_values(X_tr, is_categorical)\n",
    "# reference_values_ = np.ones(mask.shape)\n",
    "# for i in range(len(reference_values_)):\n",
    "#     reference_values_[i, :] = get_reference_feature_values(X_tr, is_categorical)\n",
    "\n",
    "s_ref = (mask == 0) * reference_values_\n",
    "s_real = (mask == 1) * instance\n",
    "\n",
    "s_full_2 = s_ref + s_real\n",
    "\n",
    "# s_full = (s_with_zero == 0) * reference_values_ + s_with_zero\n",
    "# weights = np.apply_along_axis(calculate_weight, 1, mask)\n"
   ]
  },
  {
   "cell_type": "code",
   "execution_count": 157,
   "metadata": {},
   "outputs": [
    {
     "data": {
      "text/plain": [
       "array([[ True,  True,  True],\n",
       "       [ True,  True,  True],\n",
       "       [ True,  True,  True],\n",
       "       [ True,  True,  True],\n",
       "       [ True,  True,  True],\n",
       "       [ True,  True,  True]])"
      ]
     },
     "execution_count": 157,
     "metadata": {},
     "output_type": "execute_result"
    }
   ],
   "source": [
    "s_full == s_full_2"
   ]
  },
  {
   "cell_type": "code",
   "execution_count": 152,
   "metadata": {},
   "outputs": [
    {
     "data": {
      "text/plain": [
       "array([[ 0.        ,  0.        ,  1.05761935],\n",
       "       [ 0.        , 19.05192784,  0.        ],\n",
       "       [ 0.        , 19.05192784,  1.05761935],\n",
       "       [ 3.        ,  0.        ,  0.        ],\n",
       "       [ 3.        ,  0.        ,  1.05761935],\n",
       "       [ 3.        , 19.05192784,  0.        ]])"
      ]
     },
     "execution_count": 152,
     "metadata": {},
     "output_type": "execute_result"
    }
   ],
   "source": [
    "s_real"
   ]
  }
 ],
 "metadata": {
  "kernelspec": {
   "display_name": "smt_38",
   "language": "python",
   "name": "python3"
  },
  "language_info": {
   "codemirror_mode": {
    "name": "ipython",
    "version": 3
   },
   "file_extension": ".py",
   "mimetype": "text/x-python",
   "name": "python",
   "nbconvert_exporter": "python",
   "pygments_lexer": "ipython3",
   "version": "3.8.18"
  }
 },
 "nbformat": 4,
 "nbformat_minor": 2
}
