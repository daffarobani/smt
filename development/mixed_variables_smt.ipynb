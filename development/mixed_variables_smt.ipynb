{
 "cells": [
  {
   "cell_type": "code",
   "execution_count": 28,
   "metadata": {},
   "outputs": [],
   "source": [
    "import sys\n",
    "dirname = '/Users/m.daffarobani/Documents/personal_research/smt'\n",
    "if dirname not in sys.path:\n",
    "    sys.path.append(dirname)\n",
    "\n",
    "import pandas as pd\n",
    "import numpy as np\n",
    "from sklearn.model_selection import train_test_split\n",
    "from smt.utils.design_space import (\n",
    "    DesignSpace,\n",
    "    FloatVariable,\n",
    "    IntegerVariable,\n",
    "    OrdinalVariable,\n",
    "    CategoricalVariable,\n",
    ")\n",
    "from smt.surrogate_models import KRG, MixIntKernelType\n",
    "from sklearn.metrics import mean_squared_error"
   ]
  },
  {
   "cell_type": "code",
   "execution_count": 2,
   "metadata": {},
   "outputs": [],
   "source": [
    "df = pd.read_csv(\"../tutorial/VTF_properties.csv\")"
   ]
  },
  {
   "cell_type": "code",
   "execution_count": 5,
   "metadata": {},
   "outputs": [
    {
     "data": {
      "text/html": [
       "<div>\n",
       "<style scoped>\n",
       "    .dataframe tbody tr th:only-of-type {\n",
       "        vertical-align: middle;\n",
       "    }\n",
       "\n",
       "    .dataframe tbody tr th {\n",
       "        vertical-align: top;\n",
       "    }\n",
       "\n",
       "    .dataframe thead th {\n",
       "        text-align: right;\n",
       "    }\n",
       "</style>\n",
       "<table border=\"1\" class=\"dataframe\">\n",
       "  <thead>\n",
       "    <tr style=\"text-align: right;\">\n",
       "      <th></th>\n",
       "      <th>Carbon_fibre</th>\n",
       "      <th>Glass_fibre</th>\n",
       "      <th>lf</th>\n",
       "      <th>Vc</th>\n",
       "      <th>SmAvg</th>\n",
       "      <th>G</th>\n",
       "      <th>GiicmAvg</th>\n",
       "      <th>Initial_stiffness</th>\n",
       "      <th>Ultimate_strain</th>\n",
       "      <th>Pseudo_ductile_strain</th>\n",
       "      <th>Ultimate_strength</th>\n",
       "      <th>Yield_strength</th>\n",
       "    </tr>\n",
       "  </thead>\n",
       "  <tbody>\n",
       "    <tr>\n",
       "      <th>0</th>\n",
       "      <td>XN-90</td>\n",
       "      <td>GF</td>\n",
       "      <td>10533.482040</td>\n",
       "      <td>0.966017</td>\n",
       "      <td>82.354229</td>\n",
       "      <td>1056.370868</td>\n",
       "      <td>0.734474</td>\n",
       "      <td>456482.1982</td>\n",
       "      <td>0.24</td>\n",
       "      <td>0.050521</td>\n",
       "      <td>864.937397</td>\n",
       "      <td>864.937397</td>\n",
       "    </tr>\n",
       "    <tr>\n",
       "      <th>1</th>\n",
       "      <td>XN-90</td>\n",
       "      <td>XN-05</td>\n",
       "      <td>7808.946657</td>\n",
       "      <td>0.996472</td>\n",
       "      <td>60.848804</td>\n",
       "      <td>1741.249859</td>\n",
       "      <td>0.849103</td>\n",
       "      <td>466897.1657</td>\n",
       "      <td>0.24</td>\n",
       "      <td>0.040624</td>\n",
       "      <td>930.878853</td>\n",
       "      <td>930.878853</td>\n",
       "    </tr>\n",
       "    <tr>\n",
       "      <th>2</th>\n",
       "      <td>XN-90</td>\n",
       "      <td>GF</td>\n",
       "      <td>9323.678328</td>\n",
       "      <td>0.242948</td>\n",
       "      <td>53.269380</td>\n",
       "      <td>1523.664676</td>\n",
       "      <td>0.671576</td>\n",
       "      <td>169973.9748</td>\n",
       "      <td>0.18</td>\n",
       "      <td>0.033303</td>\n",
       "      <td>249.346203</td>\n",
       "      <td>249.346203</td>\n",
       "    </tr>\n",
       "    <tr>\n",
       "      <th>3</th>\n",
       "      <td>P120J</td>\n",
       "      <td>GF</td>\n",
       "      <td>5788.757208</td>\n",
       "      <td>0.453632</td>\n",
       "      <td>79.635912</td>\n",
       "      <td>1662.767083</td>\n",
       "      <td>0.776173</td>\n",
       "      <td>240985.5142</td>\n",
       "      <td>0.26</td>\n",
       "      <td>0.069889</td>\n",
       "      <td>458.139055</td>\n",
       "      <td>458.139055</td>\n",
       "    </tr>\n",
       "    <tr>\n",
       "      <th>4</th>\n",
       "      <td>XN-90</td>\n",
       "      <td>XN-05</td>\n",
       "      <td>11435.547280</td>\n",
       "      <td>0.837472</td>\n",
       "      <td>61.736593</td>\n",
       "      <td>1340.566744</td>\n",
       "      <td>0.658034</td>\n",
       "      <td>389829.4153</td>\n",
       "      <td>0.22</td>\n",
       "      <td>0.042216</td>\n",
       "      <td>693.053223</td>\n",
       "      <td>693.053223</td>\n",
       "    </tr>\n",
       "  </tbody>\n",
       "</table>\n",
       "</div>"
      ],
      "text/plain": [
       "  Carbon_fibre Glass_fibre            lf        Vc      SmAvg            G  \\\n",
       "0        XN-90          GF  10533.482040  0.966017  82.354229  1056.370868   \n",
       "1        XN-90       XN-05   7808.946657  0.996472  60.848804  1741.249859   \n",
       "2        XN-90          GF   9323.678328  0.242948  53.269380  1523.664676   \n",
       "3        P120J          GF   5788.757208  0.453632  79.635912  1662.767083   \n",
       "4        XN-90       XN-05  11435.547280  0.837472  61.736593  1340.566744   \n",
       "\n",
       "   GiicmAvg  Initial_stiffness  Ultimate_strain  Pseudo_ductile_strain  \\\n",
       "0  0.734474        456482.1982             0.24               0.050521   \n",
       "1  0.849103        466897.1657             0.24               0.040624   \n",
       "2  0.671576        169973.9748             0.18               0.033303   \n",
       "3  0.776173        240985.5142             0.26               0.069889   \n",
       "4  0.658034        389829.4153             0.22               0.042216   \n",
       "\n",
       "   Ultimate_strength  Yield_strength  \n",
       "0         864.937397      864.937397  \n",
       "1         930.878853      930.878853  \n",
       "2         249.346203      249.346203  \n",
       "3         458.139055      458.139055  \n",
       "4         693.053223      693.053223  "
      ]
     },
     "execution_count": 5,
     "metadata": {},
     "output_type": "execute_result"
    }
   ],
   "source": [
    "df.head()"
   ]
  },
  {
   "cell_type": "code",
   "execution_count": 4,
   "metadata": {},
   "outputs": [
    {
     "data": {
      "text/plain": [
       "K13D                2834\n",
       "XN-90               1601\n",
       "C124                1534\n",
       "P120J                856\n",
       "T1000GB              671\n",
       "HTA5131              476\n",
       "C320                 385\n",
       "M60JB                274\n",
       "M40B                 255\n",
       "T800H                215\n",
       "P75S                 204\n",
       "T300                 176\n",
       "C100                 101\n",
       "FliteStrand_S_ZT      16\n",
       "XN-05                 13\n",
       "GF                     1\n",
       "Name: Carbon_fibre, dtype: int64"
      ]
     },
     "execution_count": 4,
     "metadata": {},
     "output_type": "execute_result"
    }
   ],
   "source": [
    "df['Carbon_fibre'].value_counts()"
   ]
  },
  {
   "cell_type": "code",
   "execution_count": 6,
   "metadata": {},
   "outputs": [
    {
     "data": {
      "text/plain": [
       "C100                3001\n",
       "C124                2633\n",
       "C320                 685\n",
       "T300                 535\n",
       "T1000GB              507\n",
       "P120J                350\n",
       "XN-05                325\n",
       "T800H                309\n",
       "XN-90                272\n",
       "P75S                 251\n",
       "HTA5131              211\n",
       "FliteStrand_S_ZT     185\n",
       "M60JB                166\n",
       "GF                   120\n",
       "M40B                  62\n",
       "Name: Glass_fibre, dtype: int64"
      ]
     },
     "execution_count": 6,
     "metadata": {},
     "output_type": "execute_result"
    }
   ],
   "source": [
    "df['Glass_fibre'].value_counts()"
   ]
  },
  {
   "cell_type": "code",
   "execution_count": 53,
   "metadata": {},
   "outputs": [],
   "source": [
    "df = pd.read_csv(\"../tutorial/VTF_properties.csv\")\n",
    "df = df.sample(n=1000,random_state = 10)\n",
    "data = df.copy()\n",
    "data.Carbon_fibre = pd.Categorical(data.Carbon_fibre)\n",
    "data['Carbon_fibre'] = data.Carbon_fibre.cat.codes  \n",
    "data.Glass_fibre = pd.Categorical(data.Glass_fibre)\n",
    "data['Glass_fibre'] = data.Glass_fibre.cat.codes  \n",
    "Xd = data.drop(['SmAvg','G','GiicmAvg','Initial_stiffness','Ultimate_strain','Pseudo_ductile_strain','Ultimate_strength',\n",
    "             'Yield_strength'],axis = 1)\n",
    "\n",
    "yd = data.Initial_stiffness\n",
    "\n",
    "X_train, X_test, y_train, y_test = train_test_split(Xd, yd, test_size = 0.25, random_state = 42)\n",
    "X_tr = np.asarray(X_train)\n",
    "y_tr = np.asarray(y_train).astype(float)\n",
    "X_te = np.asarray(X_test)\n",
    "y_te = np.asarray(y_test).astype(float)\n",
    "\n",
    "# to define the variables\n",
    "design_space = DesignSpace ([\n",
    "    CategoricalVariable (['XN-90', 'P120J', 'T1000GB', 'C124', 'T800H', 'M60JB', 'C320',\n",
    "       'M40B', 'P75S', 'K13D', 'T300', 'XN-05', 'FliteStrand_S_ZT',\n",
    "       'HTA5131', 'GF', 'C100']), #16 choices\n",
    "     CategoricalVariable (['GF', 'XN-05', 'FliteStrand_S_ZT', 'C124', 'T300', 'T800H', 'C320',\n",
    "       'P75S', 'C100', 'XN-90', 'HTA5131', 'T1000GB', 'P120J', 'M40B',\n",
    "       'M60JB']), #15 choices\n",
    "    FloatVariable (501.5425023,11999.96175),\n",
    "    FloatVariable (2.849e-05,1.0),\n",
    "])\n"
   ]
  },
  {
   "cell_type": "code",
   "execution_count": 61,
   "metadata": {},
   "outputs": [],
   "source": [
    "design_space = DesignSpace ([\n",
    "    CategoricalVariable (['P120J', 'XN-90', 'T1000GB', 'C124', 'T800H', 'M60JB', 'C320',\n",
    "       'M40B', 'P75S', 'K13D', 'T300', 'XN-05', 'FliteStrand_S_ZT',\n",
    "       'HTA5131', 'GF', 'C100']), #16 choices\n",
    "     CategoricalVariable (['GF', 'XN-05', 'FliteStrand_S_ZT', 'C124', 'T300', 'T800H', 'C320',\n",
    "       'P75S', 'C100', 'XN-90', 'HTA5131', 'T1000GB', 'P120J', 'M40B',\n",
    "       'M60JB']), #15 choices\n",
    "    FloatVariable (501.5425023,11999.96175),\n",
    "    FloatVariable (2.849e-05,1.0),\n",
    "])"
   ]
  },
  {
   "cell_type": "code",
   "execution_count": 63,
   "metadata": {},
   "outputs": [
    {
     "data": {
      "text/plain": [
       "array([ 0,  1,  2,  3,  4,  5,  6,  7,  8,  9, 10, 11, 12, 13, 14, 15])"
      ]
     },
     "execution_count": 63,
     "metadata": {},
     "output_type": "execute_result"
    }
   ],
   "source": [
    "np.arange(16)"
   ]
  },
  {
   "cell_type": "code",
   "execution_count": 64,
   "metadata": {},
   "outputs": [],
   "source": [
    "design_space = DesignSpace ([\n",
    "    CategoricalVariable (np.arange(16)), #16 choices\n",
    "     CategoricalVariable (['GF', 'XN-05', 'FliteStrand_S_ZT', 'C124', 'T300', 'T800H', 'C320',\n",
    "       'P75S', 'C100', 'XN-90', 'HTA5131', 'T1000GB', 'P120J', 'M40B',\n",
    "       'M60JB']), #15 choices\n",
    "    FloatVariable (501.5425023,11999.96175),\n",
    "    FloatVariable (2.849e-05,1.0),\n",
    "])"
   ]
  },
  {
   "cell_type": "code",
   "execution_count": 62,
   "metadata": {},
   "outputs": [
    {
     "name": "stdout",
     "output_type": "stream",
     "text": [
      "RMSE: 18381.5144\n",
      "rRMSE: 0.0881\n"
     ]
    }
   ],
   "source": [
    "sm=KRG(design_space = design_space, print_global=False, categorical_kernel=MixIntKernelType.GOWER)\n",
    "sm.set_training_values(X_tr, y_tr)\n",
    "sm.train()\n",
    "y_pred = sm.predict_values(X_te)\n",
    "rmse = mean_squared_error(y_te, y_pred, squared=False)\n",
    "rrmse = rmse / y_te.mean()\n",
    "print(f\"RMSE: {rmse:.4f}\")\n",
    "print(f\"rRMSE: {rrmse:.4f}\")\n"
   ]
  },
  {
   "cell_type": "code",
   "execution_count": 65,
   "metadata": {},
   "outputs": [
    {
     "name": "stdout",
     "output_type": "stream",
     "text": [
      "RMSE: 18381.5144\n",
      "rRMSE: 0.0881\n"
     ]
    }
   ],
   "source": [
    "sm=KRG(design_space = design_space, print_global=False, categorical_kernel=MixIntKernelType.GOWER)\n",
    "sm.set_training_values(X_tr, y_tr)\n",
    "sm.train()\n",
    "y_pred = sm.predict_values(X_te)\n",
    "rmse = mean_squared_error(y_te, y_pred, squared=False)\n",
    "rrmse = rmse / y_te.mean()\n",
    "print(f\"RMSE: {rmse:.4f}\")\n",
    "print(f\"rRMSE: {rrmse:.4f}\")\n"
   ]
  },
  {
   "cell_type": "code",
   "execution_count": 60,
   "metadata": {},
   "outputs": [
    {
     "data": {
      "text/plain": [
       "0       4\n",
       "1     160\n",
       "2      43\n",
       "3      59\n",
       "4     302\n",
       "5      29\n",
       "6      29\n",
       "7      69\n",
       "8      22\n",
       "9      74\n",
       "10     15\n",
       "11     24\n",
       "12    170\n",
       "Name: Carbon_fibre, dtype: int64"
      ]
     },
     "execution_count": 60,
     "metadata": {},
     "output_type": "execute_result"
    }
   ],
   "source": [
    "data['Carbon_fibre'].value_counts().sort_index()"
   ]
  },
  {
   "cell_type": "code",
   "execution_count": 58,
   "metadata": {},
   "outputs": [
    {
     "data": {
      "text/plain": [
       "C100         4\n",
       "C124       160\n",
       "C320        43\n",
       "HTA5131     59\n",
       "K13D       302\n",
       "M40B        29\n",
       "M60JB       29\n",
       "P120J       69\n",
       "P75S        22\n",
       "T1000GB     74\n",
       "T300        15\n",
       "T800H       24\n",
       "XN-90      170\n",
       "Name: Carbon_fibre, dtype: int64"
      ]
     },
     "execution_count": 58,
     "metadata": {},
     "output_type": "execute_result"
    }
   ],
   "source": [
    "df['Carbon_fibre'].value_counts().sort_index()"
   ]
  },
  {
   "cell_type": "code",
   "execution_count": 46,
   "metadata": {},
   "outputs": [],
   "source": [
    "check = pd.Categorical(df['Carbon_fibre'])"
   ]
  },
  {
   "cell_type": "code",
   "execution_count": 49,
   "metadata": {},
   "outputs": [
    {
     "data": {
      "text/plain": [
       "0       K13D\n",
       "1       K13D\n",
       "2       C124\n",
       "3       C320\n",
       "4       C124\n",
       "       ...  \n",
       "995     C124\n",
       "996     K13D\n",
       "997    P120J\n",
       "998    M60JB\n",
       "999     K13D\n",
       "Length: 1000, dtype: category\n",
       "Categories (13, object): ['C100', 'C124', 'C320', 'HTA5131', ..., 'T1000GB', 'T300', 'T800H', 'XN-90']"
      ]
     },
     "execution_count": 49,
     "metadata": {},
     "output_type": "execute_result"
    }
   ],
   "source": [
    "pd.Series(check)"
   ]
  }
 ],
 "metadata": {
  "kernelspec": {
   "display_name": "smt-37",
   "language": "python",
   "name": "smt-37"
  },
  "language_info": {
   "codemirror_mode": {
    "name": "ipython",
    "version": 3
   },
   "file_extension": ".py",
   "mimetype": "text/x-python",
   "name": "python",
   "nbconvert_exporter": "python",
   "pygments_lexer": "ipython3",
   "version": "3.7.16"
  }
 },
 "nbformat": 4,
 "nbformat_minor": 2
}
