{
 "cells": [
  {
   "cell_type": "code",
   "execution_count": 1,
   "id": "2e1e36ba-a632-45d4-a7ea-6c5a80e4c2ef",
   "metadata": {
    "tags": []
   },
   "outputs": [],
   "source": [
    "import sys\n",
    "dirname = '/Users/m.daffarobani/Documents/personal_research/smt'\n",
    "if dirname not in sys.path:\n",
    "    sys.path.append(dirname)"
   ]
  },
  {
   "cell_type": "code",
   "execution_count": 6,
   "id": "fe8df11b-271c-4597-a423-f2f0caa70051",
   "metadata": {
    "tags": []
   },
   "outputs": [],
   "source": [
    "from smt.explainability_tools import partial_dependence"
   ]
  },
  {
   "cell_type": "code",
   "execution_count": 8,
   "id": "dbb26f31-4f7a-4d91-90d0-381e4a8871b7",
   "metadata": {
    "tags": []
   },
   "outputs": [
    {
     "name": "stdout",
     "output_type": "stream",
     "text": [
      "this is partial_dependence\n"
     ]
    }
   ],
   "source": [
    "partial_dependence(model='a', X='b', features='c')"
   ]
  },
  {
   "cell_type": "code",
   "execution_count": 3,
   "id": "6c4eb558-da70-4520-a130-8630bcf5aa9d",
   "metadata": {
    "tags": []
   },
   "outputs": [
    {
     "data": {
      "text/plain": [
       "['/Users/m.daffarobani/Documents/personal_research/smt/test_development',\n",
       " '/Users/m.daffarobani/miniconda3/envs/smt-37/lib/python37.zip',\n",
       " '/Users/m.daffarobani/miniconda3/envs/smt-37/lib/python3.7',\n",
       " '/Users/m.daffarobani/miniconda3/envs/smt-37/lib/python3.7/lib-dynload',\n",
       " '',\n",
       " '/Users/m.daffarobani/miniconda3/envs/smt-37/lib/python3.7/site-packages',\n",
       " '/Users/m.daffarobani/miniconda3/envs/smt-37/lib/python3.7/site-packages/IPython/extensions',\n",
       " '/Users/m.daffarobani/.ipython',\n",
       " '/Users/m.daffarobani/Documents/personal_research/smt']"
      ]
     },
     "execution_count": 3,
     "metadata": {},
     "output_type": "execute_result"
    }
   ],
   "source": [
    "sys.path"
   ]
  }
 ],
 "metadata": {
  "kernelspec": {
   "display_name": "smt-37",
   "language": "python",
   "name": "smt-37"
  },
  "language_info": {
   "codemirror_mode": {
    "name": "ipython",
    "version": 3
   },
   "file_extension": ".py",
   "mimetype": "text/x-python",
   "name": "python",
   "nbconvert_exporter": "python",
   "pygments_lexer": "ipython3",
   "version": "3.7.16"
  }
 },
 "nbformat": 4,
 "nbformat_minor": 5
}
